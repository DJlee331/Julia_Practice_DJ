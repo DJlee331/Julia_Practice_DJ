{
  "nbformat": 4,
  "nbformat_minor": 0,
  "metadata": {
    "colab": {
      "provenance": [],
      "authorship_tag": "ABX9TyPTkl3rYRf7TH3m+tRZpr+R",
      "include_colab_link": true
    },
    "kernelspec": {
      "name": "julia",
      "display_name": "Julia"
    },
    "language_info": {
      "name": "julia"
    }
  },
  "cells": [
    {
      "cell_type": "markdown",
      "metadata": {
        "id": "view-in-github",
        "colab_type": "text"
      },
      "source": [
        "<a href=\"https://colab.research.google.com/github/DJlee331/Julia_Practice_DJ/blob/main/BVAR_JUlia.ipynb\" target=\"_parent\"><img src=\"https://colab.research.google.com/assets/colab-badge.svg\" alt=\"Open In Colab\"/></a>"
      ]
    },
    {
      "cell_type": "code",
      "source": [
        "using Pkg\n",
        "Pkg.add(\"FredData\")\n",
        "Pkg.add(\"Dates\")\n",
        "Pkg.add(\"Distributions\")"
      ],
      "metadata": {
        "colab": {
          "base_uri": "https://localhost:8080/"
        },
        "id": "GRWYCUnqchmm",
        "outputId": "7efab435-824f-4bac-e486-e19764cc6012",
        "collapsed": true
      },
      "execution_count": null,
      "outputs": [
        {
          "output_type": "stream",
          "name": "stderr",
          "text": [
            "\u001b[32m\u001b[1m    Updating\u001b[22m\u001b[39m registry at `~/.julia/registries/General.toml`\n",
            "\u001b[32m\u001b[1m   Resolving\u001b[22m\u001b[39m package versions...\n",
            "\u001b[32m\u001b[1m   Installed\u001b[22m\u001b[39m TZJData ─── v1.5.0+2025b\n",
            "\u001b[32m\u001b[1m   Installed\u001b[22m\u001b[39m Mocking ─── v0.8.1\n",
            "\u001b[32m\u001b[1m   Installed\u001b[22m\u001b[39m TimeZones ─ v1.21.3\n",
            "\u001b[32m\u001b[1m   Installed\u001b[22m\u001b[39m FredData ── v0.6.0\n",
            "\u001b[32m\u001b[1m    Updating\u001b[22m\u001b[39m `~/.julia/environments/v1.10/Project.toml`\n",
            "  \u001b[90m[6e85b7ee] \u001b[39m\u001b[92m+ FredData v0.6.0\u001b[39m\n",
            "\u001b[32m\u001b[1m    Updating\u001b[22m\u001b[39m `~/.julia/environments/v1.10/Manifest.toml`\n",
            "  \u001b[90m[6e85b7ee] \u001b[39m\u001b[92m+ FredData v0.6.0\u001b[39m\n",
            "  \u001b[90m[78c3b35d] \u001b[39m\u001b[92m+ Mocking v0.8.1\u001b[39m\n",
            "  \u001b[90m[dc5dba14] \u001b[39m\u001b[92m+ TZJData v1.5.0+2025b\u001b[39m\n",
            "  \u001b[90m[f269a46b] \u001b[39m\u001b[92m+ TimeZones v1.21.3\u001b[39m\n",
            "\u001b[32m\u001b[1mPrecompiling\u001b[22m\u001b[39m packages...\n",
            "   3759.8 ms\u001b[32m  ✓ \u001b[39m\u001b[90mTZJData\u001b[39m\n",
            "   3153.6 ms\u001b[32m  ✓ \u001b[39m\u001b[90mMocking\u001b[39m\n",
            "   9129.1 ms\u001b[32m  ✓ \u001b[39m\u001b[90mTimeZones\u001b[39m\n",
            "    883.0 ms\u001b[32m  ✓ \u001b[39m\u001b[90mTimeZones → TimeZonesRecipesBaseExt\u001b[39m\n",
            "   2798.3 ms\u001b[32m  ✓ \u001b[39mFredData\n",
            "  5 dependencies successfully precompiled in 25 seconds. 455 already precompiled.\n",
            "\u001b[32m\u001b[1m   Resolving\u001b[22m\u001b[39m package versions...\n",
            "\u001b[32m\u001b[1m    Updating\u001b[22m\u001b[39m `~/.julia/environments/v1.10/Project.toml`\n",
            "  \u001b[90m[ade2ca70] \u001b[39m\u001b[92m+ Dates\u001b[39m\n",
            "\u001b[32m\u001b[1m  No Changes\u001b[22m\u001b[39m to `~/.julia/environments/v1.10/Manifest.toml`\n",
            "\u001b[32m\u001b[1m   Resolving\u001b[22m\u001b[39m package versions...\n",
            "\u001b[32m\u001b[1m    Updating\u001b[22m\u001b[39m `~/.julia/environments/v1.10/Project.toml`\n",
            "  \u001b[90m[31c24e10] \u001b[39m\u001b[92m+ Distributions v0.25.119\u001b[39m\n",
            "\u001b[32m\u001b[1m  No Changes\u001b[22m\u001b[39m to `~/.julia/environments/v1.10/Manifest.toml`\n"
          ]
        }
      ]
    },
    {
      "cell_type": "code",
      "execution_count": null,
      "metadata": {
        "id": "bWzu7BtMnUjq",
        "outputId": "dfa1b478-171b-4dec-e427-b61256d8bf97",
        "colab": {
          "base_uri": "https://localhost:8080/"
        }
      },
      "outputs": [
        {
          "output_type": "execute_result",
          "data": {
            "text/plain": [
              "TaskLocalRNG()"
            ]
          },
          "metadata": {},
          "execution_count": 2
        }
      ],
      "source": [
        "using DataFrames, CSV\n",
        "using Statistics, LinearAlgebra\n",
        "using Random, Distributions\n",
        "Random.seed!(4412)"
      ]
    },
    {
      "cell_type": "code",
      "source": [
        "using FredData\n",
        "using Dates"
      ],
      "metadata": {
        "id": "F1Gb-Qe2Ybpb"
      },
      "execution_count": null,
      "outputs": []
    },
    {
      "cell_type": "code",
      "source": [
        "fred = FredData.Fred(\"adeee66f40c0687c4decaba2442fcaff\") # Replace YOUR_FRED_API_KEY with your key"
      ],
      "metadata": {
        "colab": {
          "base_uri": "https://localhost:8080/"
        },
        "id": "V_1caBi_d4hT",
        "outputId": "02ef9857-d1e7-4150-cc4b-8475c31a11c3"
      },
      "execution_count": null,
      "outputs": [
        {
          "output_type": "execute_result",
          "data": {
            "text/plain": [
              "FRED API Connection\n",
              "\turl: https://api.stlouisfed.org/fred/\n",
              "\tkey: adeee66f40c0687c4decaba2442fcaff\n"
            ]
          },
          "metadata": {},
          "execution_count": 26
        }
      ]
    },
    {
      "cell_type": "code",
      "source": [
        "# 2. 시리즈 ID로 데이터 요청 (예: GDP)\n",
        "DF = get_data(fred, \"PCEPI\").data[:,[:date,:value]]; # PCE\n",
        "rename!(DF,:value => :pce);\n",
        "series = get_data(fred, \"PCEPILFE\").data[:,[:date,:value]]; # PCE core\n",
        "rename!(series,:value => :pcecore);\n",
        "DF = outerjoin(DF,series, on = :date);\n",
        "series = get_data(fred, \"CPIAUCSL\").data[:,[:date,:value]]; # CPI\n",
        "rename!(series,:value => :cpi);\n",
        "DF = outerjoin(DF,series, on = :date);\n",
        "series = get_data(fred, \"CPILFESL\").data[:,[:date,:value]]; # CPI Core\n",
        "rename!(series,:value => :cpicore);\n",
        "DF = outerjoin(DF,series, on = :date);\n",
        "#series = get_data(fred, \"T10YIE\").data[:,[:date,:value]]; # 10year BEI\n",
        "#rename!(series,:value => :bei);\n",
        "#DF = outerjoin(DF,series, on = :date);\n",
        "series = get_data(fred, \"INDPRO\").data[:,[:date,:value]]; # Industrial Production\n",
        "rename!(series,:value => :indpro);\n",
        "DF = outerjoin(DF,series, on = :date);\n",
        "series = get_data(fred, \"UNRATE\").data[:,[:date,:value]]; # Unemployment Rate\n",
        "rename!(series,:value => :unemp);\n",
        "DF = outerjoin(DF,series, on = :date);\n",
        "series = get_data(fred, \"PAYEMS\").data[:,[:date,:value]]; # Total NonFarm employees\n",
        "rename!(series,:value => :employ);\n",
        "DF = outerjoin(DF,series, on = :date);\n",
        "series = get_data(fred, \"DFF\").data[:,[:date,:value]]; # Federal funds effective rate\n",
        "rename!(series,:value => :ffr);\n",
        "DF = outerjoin(DF,series, on = :date);\n",
        "series = get_data(fred, \"DGS10\").data[:,[:date,:value]]; # Market yield on Us Treasury 10y\n",
        "rename!(series,:value => :year10);\n",
        "DF = outerjoin(DF,series, on = :date);\n",
        "series = get_data(fred, \"DAAA\").data[:,[:date,:value]]; # Moody's Seasoned Aaa Corporate bond yield\n",
        "rename!(series,:value => :corpbond);\n",
        "DF = outerjoin(DF,series, on = :date);\n",
        "#series = get_data(fred, \"MSPUS\").data[:,[:date,:value]]; # Median Sales Price of Houses Sold for the United States\n",
        "#rename!(series,:value => :hpi);\n",
        "#DF = outerjoin(DF,series, on = :date);\n",
        "series = get_data(fred, \"TOTALSA\").data[:,[:date,:value]]; # Total Vehicle Sales\n",
        "rename!(series,:value => :vehicle);\n",
        "DF = outerjoin(DF,series, on = :date);\n",
        "series = get_data(fred, \"WTISPLC\").data[:,[:date,:value]]; # Spot Crude Oil Price: West Texas Intermediate (WTI)\n",
        "rename!(series,:value => :oil);\n",
        "DF = outerjoin(DF,series, on = :date);"
      ],
      "metadata": {
        "colab": {
          "base_uri": "https://localhost:8080/"
        },
        "id": "ehBlHLgyd4sv",
        "outputId": "696faec1-1b53-4879-fd7d-6d4b0c5afb87"
      },
      "execution_count": null,
      "outputs": [
        {
          "output_type": "stream",
          "name": "stderr",
          "text": [
            "\u001b[33m\u001b[1m┌ \u001b[22m\u001b[39m\u001b[33m\u001b[1mWarning: \u001b[22m\u001b[39mMetadata 'notes' not returned from server.\n",
            "\u001b[33m\u001b[1m└ \u001b[22m\u001b[39m\u001b[90m@ FredData ~/.julia/packages/FredData/5M7x4/src/get_data.jl:77\u001b[39m\n"
          ]
        }
      ]
    },
    {
      "cell_type": "code",
      "source": [
        "sort!(DF, :date);\n",
        "DF.month = Date.(year.(DF.date),month.(DF.date),1);\n",
        "df_m = combine(groupby(DF, :month),\n",
        "    names(DF, Not([:date, :month])) .=> (x -> mean(filter(!isnan, skipmissing(x)))) .=> names(DF, Not([:date,:month]))\n",
        ");\n",
        "rename!(df_m,:month =>:date);\n",
        "start_date = Date(\"1984-01-01\")\n",
        "end_date   = Date(\"2019-12-01\")\n",
        "\n",
        "DF_F = df_m[(df_m.date .>= start_date) .& (df_m.date .<= end_date), :];\n",
        "DF_F[[1:5; end-4:end],:]"
      ],
      "metadata": {
        "colab": {
          "base_uri": "https://localhost:8080/",
          "height": 299
        },
        "id": "XmbKs8h5aSLJ",
        "outputId": "7df0862b-8fe7-41a2-d147-3930387d84ce"
      },
      "execution_count": null,
      "outputs": [
        {
          "output_type": "execute_result",
          "data": {
            "text/plain": [
              "\u001b[1m10×13 DataFrame\n",
              "\u001b[1m Row │\u001b[1m date       \u001b[1m pce     \u001b[1m pcecore \u001b[1m cpi     \u001b[1m cpicore \u001b[1m indpro   \u001b[1m unemp   \u001b[1m empl ⋯\n",
              "     │\u001b[90m Date       \u001b[90m Float64 \u001b[90m Float64 \u001b[90m Float64 \u001b[90m Float64 \u001b[90m Float64  \u001b[90m Float64 \u001b[90m Floa ⋯\n",
              "─────┼──────────────────────────────────────────────────────────────────────────\n",
              "   1 │ 1984-01-01   47.564   47.121  102.1    102.5     53.0088      8.0   926 ⋯\n",
              "   2 │ 1984-02-01   47.884   47.418  102.6    102.8     53.2486      7.8   931\n",
              "   3 │ 1984-03-01   48.041   47.598  102.9    103.2     53.5028      7.8   934\n",
              "   4 │ 1984-04-01   48.224   47.822  103.3    103.7     53.8233      7.7   937\n",
              "   5 │ 1984-05-01   48.285   47.933  103.5    104.1     54.1104      7.4   940 ⋯\n",
              "   6 │ 2019-08-01  103.67   103.797  256.036  263.877  102.781       3.6  1511\n",
              "   7 │ 2019-09-01  103.733  103.873  256.43   264.388  102.46        3.5  1513\n",
              "   8 │ 2019-10-01  103.917  104.028  257.155  264.97   101.588       3.6  1514\n",
              "   9 │ 2019-11-01  104.024  104.092  257.879  265.548  102.149       3.6  1516 ⋯\n",
              "  10 │ 2019-12-01  104.307  104.322  258.63   266.02   101.942       3.6  1517\n",
              "\u001b[36m                                                               6 columns omitted"
            ],
            "text/html": [
              "<div><div style = \"float: left;\"><span>10×13 DataFrame</span></div><div style = \"clear: both;\"></div></div><div class = \"data-frame\" style = \"overflow-x: scroll;\"><table class = \"data-frame\" style = \"margin-bottom: 6px;\"><thead><tr class = \"header\"><th class = \"rowNumber\" style = \"font-weight: bold; text-align: right;\">Row</th><th style = \"text-align: left;\">date</th><th style = \"text-align: left;\">pce</th><th style = \"text-align: left;\">pcecore</th><th style = \"text-align: left;\">cpi</th><th style = \"text-align: left;\">cpicore</th><th style = \"text-align: left;\">indpro</th><th style = \"text-align: left;\">unemp</th><th style = \"text-align: left;\">employ</th><th style = \"text-align: left;\">ffr</th><th style = \"text-align: left;\">year10</th><th style = \"text-align: left;\">corpbond</th><th style = \"text-align: left;\">vehicle</th><th style = \"text-align: left;\">oil</th></tr><tr class = \"subheader headerLastRow\"><th class = \"rowNumber\" style = \"font-weight: bold; text-align: right;\"></th><th title = \"Date\" style = \"text-align: left;\">Date</th><th title = \"Float64\" style = \"text-align: left;\">Float64</th><th title = \"Float64\" style = \"text-align: left;\">Float64</th><th title = \"Float64\" style = \"text-align: left;\">Float64</th><th title = \"Float64\" style = \"text-align: left;\">Float64</th><th title = \"Float64\" style = \"text-align: left;\">Float64</th><th title = \"Float64\" style = \"text-align: left;\">Float64</th><th title = \"Float64\" style = \"text-align: left;\">Float64</th><th title = \"Float64\" style = \"text-align: left;\">Float64</th><th title = \"Float64\" style = \"text-align: left;\">Float64</th><th title = \"Float64\" style = \"text-align: left;\">Float64</th><th title = \"Float64\" style = \"text-align: left;\">Float64</th><th title = \"Float64\" style = \"text-align: left;\">Float64</th></tr></thead><tbody><tr><td class = \"rowNumber\" style = \"font-weight: bold; text-align: right;\">1</td><td style = \"text-align: left;\">1984-01-01</td><td style = \"text-align: right;\">47.564</td><td style = \"text-align: right;\">47.121</td><td style = \"text-align: right;\">102.1</td><td style = \"text-align: right;\">102.5</td><td style = \"text-align: right;\">53.0088</td><td style = \"text-align: right;\">8.0</td><td style = \"text-align: right;\">92673.0</td><td style = \"text-align: right;\">9.55839</td><td style = \"text-align: right;\">11.6743</td><td style = \"text-align: right;\">12.2</td><td style = \"text-align: right;\">14.21</td><td style = \"text-align: right;\">29.69</td></tr><tr><td class = \"rowNumber\" style = \"font-weight: bold; text-align: right;\">2</td><td style = \"text-align: left;\">1984-02-01</td><td style = \"text-align: right;\">47.884</td><td style = \"text-align: right;\">47.418</td><td style = \"text-align: right;\">102.6</td><td style = \"text-align: right;\">102.8</td><td style = \"text-align: right;\">53.2486</td><td style = \"text-align: right;\">7.8</td><td style = \"text-align: right;\">93157.0</td><td style = \"text-align: right;\">9.58759</td><td style = \"text-align: right;\">11.8421</td><td style = \"text-align: right;\">12.0835</td><td style = \"text-align: right;\">14.381</td><td style = \"text-align: right;\">30.145</td></tr><tr><td class = \"rowNumber\" style = \"font-weight: bold; text-align: right;\">3</td><td style = \"text-align: left;\">1984-03-01</td><td style = \"text-align: right;\">48.041</td><td style = \"text-align: right;\">47.598</td><td style = \"text-align: right;\">102.9</td><td style = \"text-align: right;\">103.2</td><td style = \"text-align: right;\">53.5028</td><td style = \"text-align: right;\">7.8</td><td style = \"text-align: right;\">93429.0</td><td style = \"text-align: right;\">9.91323</td><td style = \"text-align: right;\">12.3191</td><td style = \"text-align: right;\">12.5736</td><td style = \"text-align: right;\">14.21</td><td style = \"text-align: right;\">30.761</td></tr><tr><td class = \"rowNumber\" style = \"font-weight: bold; text-align: right;\">4</td><td style = \"text-align: left;\">1984-04-01</td><td style = \"text-align: right;\">48.224</td><td style = \"text-align: right;\">47.822</td><td style = \"text-align: right;\">103.3</td><td style = \"text-align: right;\">103.7</td><td style = \"text-align: right;\">53.8233</td><td style = \"text-align: right;\">7.7</td><td style = \"text-align: right;\">93792.0</td><td style = \"text-align: right;\">10.291</td><td style = \"text-align: right;\">12.6335</td><td style = \"text-align: right;\">12.8085</td><td style = \"text-align: right;\">14.357</td><td style = \"text-align: right;\">30.618</td></tr><tr><td class = \"rowNumber\" style = \"font-weight: bold; text-align: right;\">5</td><td style = \"text-align: left;\">1984-05-01</td><td style = \"text-align: right;\">48.285</td><td style = \"text-align: right;\">47.933</td><td style = \"text-align: right;\">103.5</td><td style = \"text-align: right;\">104.1</td><td style = \"text-align: right;\">54.1104</td><td style = \"text-align: right;\">7.4</td><td style = \"text-align: right;\">94098.0</td><td style = \"text-align: right;\">10.3194</td><td style = \"text-align: right;\">13.4086</td><td style = \"text-align: right;\">13.2827</td><td style = \"text-align: right;\">14.856</td><td style = \"text-align: right;\">30.52</td></tr><tr><td class = \"rowNumber\" style = \"font-weight: bold; text-align: right;\">6</td><td style = \"text-align: left;\">2019-08-01</td><td style = \"text-align: right;\">103.67</td><td style = \"text-align: right;\">103.797</td><td style = \"text-align: right;\">256.036</td><td style = \"text-align: right;\">263.877</td><td style = \"text-align: right;\">102.781</td><td style = \"text-align: right;\">3.6</td><td style = \"text-align: right;\">151171.0</td><td style = \"text-align: right;\">2.12581</td><td style = \"text-align: right;\">1.62636</td><td style = \"text-align: right;\">2.97727</td><td style = \"text-align: right;\">17.882</td><td style = \"text-align: right;\">54.81</td></tr><tr><td class = \"rowNumber\" style = \"font-weight: bold; text-align: right;\">7</td><td style = \"text-align: left;\">2019-09-01</td><td style = \"text-align: right;\">103.733</td><td style = \"text-align: right;\">103.873</td><td style = \"text-align: right;\">256.43</td><td style = \"text-align: right;\">264.388</td><td style = \"text-align: right;\">102.46</td><td style = \"text-align: right;\">3.5</td><td style = \"text-align: right;\">151365.0</td><td style = \"text-align: right;\">2.043</td><td style = \"text-align: right;\">1.6995</td><td style = \"text-align: right;\">3.032</td><td style = \"text-align: right;\">17.72</td><td style = \"text-align: right;\">56.95</td></tr><tr><td class = \"rowNumber\" style = \"font-weight: bold; text-align: right;\">8</td><td style = \"text-align: left;\">2019-10-01</td><td style = \"text-align: right;\">103.917</td><td style = \"text-align: right;\">104.028</td><td style = \"text-align: right;\">257.155</td><td style = \"text-align: right;\">264.97</td><td style = \"text-align: right;\">101.588</td><td style = \"text-align: right;\">3.6</td><td style = \"text-align: right;\">151460.0</td><td style = \"text-align: right;\">1.82968</td><td style = \"text-align: right;\">1.70682</td><td style = \"text-align: right;\">3.00818</td><td style = \"text-align: right;\">17.049</td><td style = \"text-align: right;\">53.96</td></tr><tr><td class = \"rowNumber\" style = \"font-weight: bold; text-align: right;\">9</td><td style = \"text-align: left;\">2019-11-01</td><td style = \"text-align: right;\">104.024</td><td style = \"text-align: right;\">104.092</td><td style = \"text-align: right;\">257.879</td><td style = \"text-align: right;\">265.548</td><td style = \"text-align: right;\">102.149</td><td style = \"text-align: right;\">3.6</td><td style = \"text-align: right;\">151668.0</td><td style = \"text-align: right;\">1.55333</td><td style = \"text-align: right;\">1.81211</td><td style = \"text-align: right;\">3.05737</td><td style = \"text-align: right;\">17.549</td><td style = \"text-align: right;\">57.03</td></tr><tr><td class = \"rowNumber\" style = \"font-weight: bold; text-align: right;\">10</td><td style = \"text-align: left;\">2019-12-01</td><td style = \"text-align: right;\">104.307</td><td style = \"text-align: right;\">104.322</td><td style = \"text-align: right;\">258.63</td><td style = \"text-align: right;\">266.02</td><td style = \"text-align: right;\">101.942</td><td style = \"text-align: right;\">3.6</td><td style = \"text-align: right;\">151795.0</td><td style = \"text-align: right;\">1.55097</td><td style = \"text-align: right;\">1.86286</td><td style = \"text-align: right;\">3.00714</td><td style = \"text-align: right;\">17.491</td><td style = \"text-align: right;\">59.88</td></tr></tbody></table></div>"
            ],
            "text/latex": "\\begin{tabular}{r|cccccccccc}\n\t& date & pce & pcecore & cpi & cpicore & indpro & unemp & employ & ffr & \\\\\n\t\\hline\n\t& Date & Float64 & Float64 & Float64 & Float64 & Float64 & Float64 & Float64 & Float64 & \\\\\n\t\\hline\n\t1 & 1984-01-01 & 47.564 & 47.121 & 102.1 & 102.5 & 53.0088 & 8.0 & 92673.0 & 9.55839 & $\\dots$ \\\\\n\t2 & 1984-02-01 & 47.884 & 47.418 & 102.6 & 102.8 & 53.2486 & 7.8 & 93157.0 & 9.58759 & $\\dots$ \\\\\n\t3 & 1984-03-01 & 48.041 & 47.598 & 102.9 & 103.2 & 53.5028 & 7.8 & 93429.0 & 9.91323 & $\\dots$ \\\\\n\t4 & 1984-04-01 & 48.224 & 47.822 & 103.3 & 103.7 & 53.8233 & 7.7 & 93792.0 & 10.291 & $\\dots$ \\\\\n\t5 & 1984-05-01 & 48.285 & 47.933 & 103.5 & 104.1 & 54.1104 & 7.4 & 94098.0 & 10.3194 & $\\dots$ \\\\\n\t6 & 2019-08-01 & 103.67 & 103.797 & 256.036 & 263.877 & 102.781 & 3.6 & 151171.0 & 2.12581 & $\\dots$ \\\\\n\t7 & 2019-09-01 & 103.733 & 103.873 & 256.43 & 264.388 & 102.46 & 3.5 & 151365.0 & 2.043 & $\\dots$ \\\\\n\t8 & 2019-10-01 & 103.917 & 104.028 & 257.155 & 264.97 & 101.588 & 3.6 & 151460.0 & 1.82968 & $\\dots$ \\\\\n\t9 & 2019-11-01 & 104.024 & 104.092 & 257.879 & 265.548 & 102.149 & 3.6 & 151668.0 & 1.55333 & $\\dots$ \\\\\n\t10 & 2019-12-01 & 104.307 & 104.322 & 258.63 & 266.02 & 101.942 & 3.6 & 151795.0 & 1.55097 & $\\dots$ \\\\\n\\end{tabular}\n"
          },
          "metadata": {},
          "execution_count": 28
        }
      ]
    },
    {
      "cell_type": "code",
      "source": [
        "log_level = vec([1 2 3 4 5 7  12]);\n",
        "# names(DF_F,Not(:date))[log_level]\n",
        "transform!(DF_F, names(DF_F,Not(:date))[log_level] .=> ByRow(x -> log(x) * 100) .=> names(DF_F,Not(:date))[log_level] );\n",
        "DF_F[[1:5; end-4:end],:]"
      ],
      "metadata": {
        "colab": {
          "base_uri": "https://localhost:8080/",
          "height": 299
        },
        "id": "H74EUvgRd41s",
        "outputId": "79656fb7-963c-4162-cb9c-c6660d220818"
      },
      "execution_count": null,
      "outputs": [
        {
          "output_type": "execute_result",
          "data": {
            "text/plain": [
              "\u001b[1m10×13 DataFrame\n",
              "\u001b[1m Row │\u001b[1m date       \u001b[1m pce     \u001b[1m pcecore \u001b[1m cpi     \u001b[1m cpicore \u001b[1m indpro  \u001b[1m unemp   \u001b[1m emplo ⋯\n",
              "     │\u001b[90m Date       \u001b[90m Float64 \u001b[90m Float64 \u001b[90m Float64 \u001b[90m Float64 \u001b[90m Float64 \u001b[90m Float64 \u001b[90m Float ⋯\n",
              "─────┼──────────────────────────────────────────────────────────────────────────\n",
              "   1 │ 1984-01-01  595.638  595.395  613.685  613.77   598.405      8.0  704.2 ⋯\n",
              "   2 │ 1984-02-01  595.811  595.558  613.791  613.833  598.519      7.8  704.2\n",
              "   3 │ 1984-03-01  595.896  595.656  613.854  613.917  598.639      7.8  704.2\n",
              "   4 │ 1984-04-01  595.994  595.777  613.938  614.021  598.788      7.7  704.3\n",
              "   5 │ 1984-05-01  596.026  595.837  613.979  614.104  598.922      7.4  704.3 ⋯\n",
              "   6 │ 2019-08-01  614.015  614.041  631.812  632.355  613.829      3.6  708.3\n",
              "   7 │ 2019-09-01  614.028  614.057  631.84   632.39   613.761      3.5  708.4\n",
              "   8 │ 2019-10-01  614.066  614.089  631.891  632.429  613.576      3.6  708.4\n",
              "   9 │ 2019-11-01  614.088  614.102  631.942  632.468  613.696      3.6  708.4 ⋯\n",
              "  10 │ 2019-12-01  614.146  614.15   631.994  632.5    613.652      3.6  708.4\n",
              "\u001b[36m                                                               6 columns omitted"
            ],
            "text/html": [
              "<div><div style = \"float: left;\"><span>10×13 DataFrame</span></div><div style = \"clear: both;\"></div></div><div class = \"data-frame\" style = \"overflow-x: scroll;\"><table class = \"data-frame\" style = \"margin-bottom: 6px;\"><thead><tr class = \"header\"><th class = \"rowNumber\" style = \"font-weight: bold; text-align: right;\">Row</th><th style = \"text-align: left;\">date</th><th style = \"text-align: left;\">pce</th><th style = \"text-align: left;\">pcecore</th><th style = \"text-align: left;\">cpi</th><th style = \"text-align: left;\">cpicore</th><th style = \"text-align: left;\">indpro</th><th style = \"text-align: left;\">unemp</th><th style = \"text-align: left;\">employ</th><th style = \"text-align: left;\">ffr</th><th style = \"text-align: left;\">year10</th><th style = \"text-align: left;\">corpbond</th><th style = \"text-align: left;\">vehicle</th><th style = \"text-align: left;\">oil</th></tr><tr class = \"subheader headerLastRow\"><th class = \"rowNumber\" style = \"font-weight: bold; text-align: right;\"></th><th title = \"Date\" style = \"text-align: left;\">Date</th><th title = \"Float64\" style = \"text-align: left;\">Float64</th><th title = \"Float64\" style = \"text-align: left;\">Float64</th><th title = \"Float64\" style = \"text-align: left;\">Float64</th><th title = \"Float64\" style = \"text-align: left;\">Float64</th><th title = \"Float64\" style = \"text-align: left;\">Float64</th><th title = \"Float64\" style = \"text-align: left;\">Float64</th><th title = \"Float64\" style = \"text-align: left;\">Float64</th><th title = \"Float64\" style = \"text-align: left;\">Float64</th><th title = \"Float64\" style = \"text-align: left;\">Float64</th><th title = \"Float64\" style = \"text-align: left;\">Float64</th><th title = \"Float64\" style = \"text-align: left;\">Float64</th><th title = \"Float64\" style = \"text-align: left;\">Float64</th></tr></thead><tbody><tr><td class = \"rowNumber\" style = \"font-weight: bold; text-align: right;\">1</td><td style = \"text-align: left;\">1984-01-01</td><td style = \"text-align: right;\">595.638</td><td style = \"text-align: right;\">595.395</td><td style = \"text-align: right;\">613.685</td><td style = \"text-align: right;\">613.77</td><td style = \"text-align: right;\">598.405</td><td style = \"text-align: right;\">8.0</td><td style = \"text-align: right;\">704.201</td><td style = \"text-align: right;\">9.55839</td><td style = \"text-align: right;\">11.6743</td><td style = \"text-align: right;\">12.2</td><td style = \"text-align: right;\">14.21</td><td style = \"text-align: right;\">582.624</td></tr><tr><td class = \"rowNumber\" style = \"font-weight: bold; text-align: right;\">2</td><td style = \"text-align: left;\">1984-02-01</td><td style = \"text-align: right;\">595.811</td><td style = \"text-align: right;\">595.558</td><td style = \"text-align: right;\">613.791</td><td style = \"text-align: right;\">613.833</td><td style = \"text-align: right;\">598.519</td><td style = \"text-align: right;\">7.8</td><td style = \"text-align: right;\">704.246</td><td style = \"text-align: right;\">9.58759</td><td style = \"text-align: right;\">11.8421</td><td style = \"text-align: right;\">12.0835</td><td style = \"text-align: right;\">14.381</td><td style = \"text-align: right;\">583.071</td></tr><tr><td class = \"rowNumber\" style = \"font-weight: bold; text-align: right;\">3</td><td style = \"text-align: left;\">1984-03-01</td><td style = \"text-align: right;\">595.896</td><td style = \"text-align: right;\">595.656</td><td style = \"text-align: right;\">613.854</td><td style = \"text-align: right;\">613.917</td><td style = \"text-align: right;\">598.639</td><td style = \"text-align: right;\">7.8</td><td style = \"text-align: right;\">704.272</td><td style = \"text-align: right;\">9.91323</td><td style = \"text-align: right;\">12.3191</td><td style = \"text-align: right;\">12.5736</td><td style = \"text-align: right;\">14.21</td><td style = \"text-align: right;\">583.664</td></tr><tr><td class = \"rowNumber\" style = \"font-weight: bold; text-align: right;\">4</td><td style = \"text-align: left;\">1984-04-01</td><td style = \"text-align: right;\">595.994</td><td style = \"text-align: right;\">595.777</td><td style = \"text-align: right;\">613.938</td><td style = \"text-align: right;\">614.021</td><td style = \"text-align: right;\">598.788</td><td style = \"text-align: right;\">7.7</td><td style = \"text-align: right;\">704.306</td><td style = \"text-align: right;\">10.291</td><td style = \"text-align: right;\">12.6335</td><td style = \"text-align: right;\">12.8085</td><td style = \"text-align: right;\">14.357</td><td style = \"text-align: right;\">583.527</td></tr><tr><td class = \"rowNumber\" style = \"font-weight: bold; text-align: right;\">5</td><td style = \"text-align: left;\">1984-05-01</td><td style = \"text-align: right;\">596.026</td><td style = \"text-align: right;\">595.837</td><td style = \"text-align: right;\">613.979</td><td style = \"text-align: right;\">614.104</td><td style = \"text-align: right;\">598.922</td><td style = \"text-align: right;\">7.4</td><td style = \"text-align: right;\">704.334</td><td style = \"text-align: right;\">10.3194</td><td style = \"text-align: right;\">13.4086</td><td style = \"text-align: right;\">13.2827</td><td style = \"text-align: right;\">14.856</td><td style = \"text-align: right;\">583.434</td></tr><tr><td class = \"rowNumber\" style = \"font-weight: bold; text-align: right;\">6</td><td style = \"text-align: left;\">2019-08-01</td><td style = \"text-align: right;\">614.015</td><td style = \"text-align: right;\">614.041</td><td style = \"text-align: right;\">631.812</td><td style = \"text-align: right;\">632.355</td><td style = \"text-align: right;\">613.829</td><td style = \"text-align: right;\">3.6</td><td style = \"text-align: right;\">708.391</td><td style = \"text-align: right;\">2.12581</td><td style = \"text-align: right;\">1.62636</td><td style = \"text-align: right;\">2.97727</td><td style = \"text-align: right;\">17.882</td><td style = \"text-align: right;\">599.243</td></tr><tr><td class = \"rowNumber\" style = \"font-weight: bold; text-align: right;\">7</td><td style = \"text-align: left;\">2019-09-01</td><td style = \"text-align: right;\">614.028</td><td style = \"text-align: right;\">614.057</td><td style = \"text-align: right;\">631.84</td><td style = \"text-align: right;\">632.39</td><td style = \"text-align: right;\">613.761</td><td style = \"text-align: right;\">3.5</td><td style = \"text-align: right;\">708.401</td><td style = \"text-align: right;\">2.043</td><td style = \"text-align: right;\">1.6995</td><td style = \"text-align: right;\">3.032</td><td style = \"text-align: right;\">17.72</td><td style = \"text-align: right;\">600.195</td></tr><tr><td class = \"rowNumber\" style = \"font-weight: bold; text-align: right;\">8</td><td style = \"text-align: left;\">2019-10-01</td><td style = \"text-align: right;\">614.066</td><td style = \"text-align: right;\">614.089</td><td style = \"text-align: right;\">631.891</td><td style = \"text-align: right;\">632.429</td><td style = \"text-align: right;\">613.576</td><td style = \"text-align: right;\">3.6</td><td style = \"text-align: right;\">708.407</td><td style = \"text-align: right;\">1.82968</td><td style = \"text-align: right;\">1.70682</td><td style = \"text-align: right;\">3.00818</td><td style = \"text-align: right;\">17.049</td><td style = \"text-align: right;\">598.852</td></tr><tr><td class = \"rowNumber\" style = \"font-weight: bold; text-align: right;\">9</td><td style = \"text-align: left;\">2019-11-01</td><td style = \"text-align: right;\">614.088</td><td style = \"text-align: right;\">614.102</td><td style = \"text-align: right;\">631.942</td><td style = \"text-align: right;\">632.468</td><td style = \"text-align: right;\">613.696</td><td style = \"text-align: right;\">3.6</td><td style = \"text-align: right;\">708.418</td><td style = \"text-align: right;\">1.55333</td><td style = \"text-align: right;\">1.81211</td><td style = \"text-align: right;\">3.05737</td><td style = \"text-align: right;\">17.549</td><td style = \"text-align: right;\">600.23</td></tr><tr><td class = \"rowNumber\" style = \"font-weight: bold; text-align: right;\">10</td><td style = \"text-align: left;\">2019-12-01</td><td style = \"text-align: right;\">614.146</td><td style = \"text-align: right;\">614.15</td><td style = \"text-align: right;\">631.994</td><td style = \"text-align: right;\">632.5</td><td style = \"text-align: right;\">613.652</td><td style = \"text-align: right;\">3.6</td><td style = \"text-align: right;\">708.425</td><td style = \"text-align: right;\">1.55097</td><td style = \"text-align: right;\">1.86286</td><td style = \"text-align: right;\">3.00714</td><td style = \"text-align: right;\">17.491</td><td style = \"text-align: right;\">601.429</td></tr></tbody></table></div>"
            ],
            "text/latex": "\\begin{tabular}{r|cccccccccc}\n\t& date & pce & pcecore & cpi & cpicore & indpro & unemp & employ & ffr & \\\\\n\t\\hline\n\t& Date & Float64 & Float64 & Float64 & Float64 & Float64 & Float64 & Float64 & Float64 & \\\\\n\t\\hline\n\t1 & 1984-01-01 & 595.638 & 595.395 & 613.685 & 613.77 & 598.405 & 8.0 & 704.201 & 9.55839 & $\\dots$ \\\\\n\t2 & 1984-02-01 & 595.811 & 595.558 & 613.791 & 613.833 & 598.519 & 7.8 & 704.246 & 9.58759 & $\\dots$ \\\\\n\t3 & 1984-03-01 & 595.896 & 595.656 & 613.854 & 613.917 & 598.639 & 7.8 & 704.272 & 9.91323 & $\\dots$ \\\\\n\t4 & 1984-04-01 & 595.994 & 595.777 & 613.938 & 614.021 & 598.788 & 7.7 & 704.306 & 10.291 & $\\dots$ \\\\\n\t5 & 1984-05-01 & 596.026 & 595.837 & 613.979 & 614.104 & 598.922 & 7.4 & 704.334 & 10.3194 & $\\dots$ \\\\\n\t6 & 2019-08-01 & 614.015 & 614.041 & 631.812 & 632.355 & 613.829 & 3.6 & 708.391 & 2.12581 & $\\dots$ \\\\\n\t7 & 2019-09-01 & 614.028 & 614.057 & 631.84 & 632.39 & 613.761 & 3.5 & 708.401 & 2.043 & $\\dots$ \\\\\n\t8 & 2019-10-01 & 614.066 & 614.089 & 631.891 & 632.429 & 613.576 & 3.6 & 708.407 & 1.82968 & $\\dots$ \\\\\n\t9 & 2019-11-01 & 614.088 & 614.102 & 631.942 & 632.468 & 613.696 & 3.6 & 708.418 & 1.55333 & $\\dots$ \\\\\n\t10 & 2019-12-01 & 614.146 & 614.15 & 631.994 & 632.5 & 613.652 & 3.6 & 708.425 & 1.55097 & $\\dots$ \\\\\n\\end{tabular}\n"
          },
          "metadata": {},
          "execution_count": 62
        }
      ]
    },
    {
      "cell_type": "code",
      "source": [
        "DF_Q =copy(DF_F);\n",
        "DF_Q.quarter = Date.(year.(DF_F.date),quarterofyear.(Date.(DF_F.date)).*3 ,1); # 분기 말월 1일 기준\n",
        "DF_Q = combine(groupby(DF_Q, :quarter),names(DF_Q, Not([:date, :quarter])) .=> mean)\n",
        "rename!(DF_Q, :quarter => :date);\n",
        "DF_Q[[1:4;end-3:end],:]"
      ],
      "metadata": {
        "colab": {
          "base_uri": "https://localhost:8080/",
          "height": 256
        },
        "id": "YWKeFHmvd49H",
        "outputId": "01d0ffe4-de0f-4393-d0dd-31ca518a633e"
      },
      "execution_count": null,
      "outputs": [
        {
          "output_type": "execute_result",
          "data": {
            "text/plain": [
              "\u001b[1m8×13 DataFrame\n",
              "\u001b[1m Row │\u001b[1m date       \u001b[1m pce_mean \u001b[1m pcecore_mean \u001b[1m cpi_mean \u001b[1m cpicore_mean \u001b[1m indpro_mean ⋯\n",
              "     │\u001b[90m Date       \u001b[90m Float64  \u001b[90m Float64      \u001b[90m Float64  \u001b[90m Float64      \u001b[90m Float64     ⋯\n",
              "─────┼──────────────────────────────────────────────────────────────────────────\n",
              "   1 │ 1984-03-01   386.764       385.817   463.018       463.311      397.505 ⋯\n",
              "   2 │ 1984-06-01   387.729       386.982   463.957       464.535      399.047\n",
              "   3 │ 1984-09-01   388.497       387.916   464.823       465.776      399.73\n",
              "   4 │ 1984-12-01   389.112       388.625   465.681       466.783      399.778\n",
              "   5 │ 2019-03-01   463.328       463.438   553.491       556.518      463.479 ⋯\n",
              "   6 │ 2019-06-01   463.886       463.859   554.223       556.956      462.9\n",
              "   7 │ 2019-09-01   464.126       464.23    554.553       557.537      462.904\n",
              "   8 │ 2019-12-01   464.518       464.581   555.252       558.166      462.392\n",
              "\u001b[36m                                                               7 columns omitted"
            ],
            "text/html": [
              "<div><div style = \"float: left;\"><span>8×13 DataFrame</span></div><div style = \"clear: both;\"></div></div><div class = \"data-frame\" style = \"overflow-x: scroll;\"><table class = \"data-frame\" style = \"margin-bottom: 6px;\"><thead><tr class = \"header\"><th class = \"rowNumber\" style = \"font-weight: bold; text-align: right;\">Row</th><th style = \"text-align: left;\">date</th><th style = \"text-align: left;\">pce_mean</th><th style = \"text-align: left;\">pcecore_mean</th><th style = \"text-align: left;\">cpi_mean</th><th style = \"text-align: left;\">cpicore_mean</th><th style = \"text-align: left;\">indpro_mean</th><th style = \"text-align: left;\">unemp_mean</th><th style = \"text-align: left;\">employ_mean</th><th style = \"text-align: left;\">ffr_mean</th><th style = \"text-align: left;\">year10_mean</th><th style = \"text-align: left;\">corpbond_mean</th><th style = \"text-align: left;\">vehicle_mean</th><th style = \"text-align: left;\">oil_mean</th></tr><tr class = \"subheader headerLastRow\"><th class = \"rowNumber\" style = \"font-weight: bold; text-align: right;\"></th><th title = \"Date\" style = \"text-align: left;\">Date</th><th title = \"Float64\" style = \"text-align: left;\">Float64</th><th title = \"Float64\" style = \"text-align: left;\">Float64</th><th title = \"Float64\" style = \"text-align: left;\">Float64</th><th title = \"Float64\" style = \"text-align: left;\">Float64</th><th title = \"Float64\" style = \"text-align: left;\">Float64</th><th title = \"Float64\" style = \"text-align: left;\">Float64</th><th title = \"Float64\" style = \"text-align: left;\">Float64</th><th title = \"Float64\" style = \"text-align: left;\">Float64</th><th title = \"Float64\" style = \"text-align: left;\">Float64</th><th title = \"Float64\" style = \"text-align: left;\">Float64</th><th title = \"Float64\" style = \"text-align: left;\">Float64</th><th title = \"Float64\" style = \"text-align: left;\">Float64</th></tr></thead><tbody><tr><td class = \"rowNumber\" style = \"font-weight: bold; text-align: right;\">1</td><td style = \"text-align: left;\">1984-03-01</td><td style = \"text-align: right;\">386.764</td><td style = \"text-align: right;\">385.817</td><td style = \"text-align: right;\">463.018</td><td style = \"text-align: right;\">463.311</td><td style = \"text-align: right;\">397.505</td><td style = \"text-align: right;\">7.86667</td><td style = \"text-align: right;\">1144.13</td><td style = \"text-align: right;\">9.6864</td><td style = \"text-align: right;\">11.9452</td><td style = \"text-align: right;\">12.2857</td><td style = \"text-align: right;\">14.267</td><td style = \"text-align: right;\">340.769</td></tr><tr><td class = \"rowNumber\" style = \"font-weight: bold; text-align: right;\">2</td><td style = \"text-align: left;\">1984-06-01</td><td style = \"text-align: right;\">387.729</td><td style = \"text-align: right;\">386.982</td><td style = \"text-align: right;\">463.957</td><td style = \"text-align: right;\">464.535</td><td style = \"text-align: right;\">399.047</td><td style = \"text-align: right;\">7.43333</td><td style = \"text-align: right;\">1145.24</td><td style = \"text-align: right;\">10.5573</td><td style = \"text-align: right;\">13.2017</td><td style = \"text-align: right;\">13.2134</td><td style = \"text-align: right;\">14.6287</td><td style = \"text-align: right;\">341.336</td></tr><tr><td class = \"rowNumber\" style = \"font-weight: bold; text-align: right;\">3</td><td style = \"text-align: left;\">1984-09-01</td><td style = \"text-align: right;\">388.497</td><td style = \"text-align: right;\">387.916</td><td style = \"text-align: right;\">464.823</td><td style = \"text-align: right;\">465.776</td><td style = \"text-align: right;\">399.73</td><td style = \"text-align: right;\">7.43333</td><td style = \"text-align: right;\">1146.22</td><td style = \"text-align: right;\">11.3913</td><td style = \"text-align: right;\">12.867</td><td style = \"text-align: right;\">12.9896</td><td style = \"text-align: right;\">14.332</td><td style = \"text-align: right;\">337.085</td></tr><tr><td class = \"rowNumber\" style = \"font-weight: bold; text-align: right;\">4</td><td style = \"text-align: left;\">1984-12-01</td><td style = \"text-align: right;\">389.112</td><td style = \"text-align: right;\">388.625</td><td style = \"text-align: right;\">465.681</td><td style = \"text-align: right;\">466.783</td><td style = \"text-align: right;\">399.778</td><td style = \"text-align: right;\">7.3</td><td style = \"text-align: right;\">1147.11</td><td style = \"text-align: right;\">9.26425</td><td style = \"text-align: right;\">11.7442</td><td style = \"text-align: right;\">12.3506</td><td style = \"text-align: right;\">14.6727</td><td style = \"text-align: right;\">331.025</td></tr><tr><td class = \"rowNumber\" style = \"font-weight: bold; text-align: right;\">5</td><td style = \"text-align: left;\">2019-03-01</td><td style = \"text-align: right;\">463.328</td><td style = \"text-align: right;\">463.438</td><td style = \"text-align: right;\">553.491</td><td style = \"text-align: right;\">556.518</td><td style = \"text-align: right;\">463.479</td><td style = \"text-align: right;\">3.86667</td><td style = \"text-align: right;\">1191.93</td><td style = \"text-align: right;\">2.40172</td><td style = \"text-align: right;\">2.65369</td><td style = \"text-align: right;\">3.83095</td><td style = \"text-align: right;\">17.258</td><td style = \"text-align: right;\">400.29</td></tr><tr><td class = \"rowNumber\" style = \"font-weight: bold; text-align: right;\">6</td><td style = \"text-align: left;\">2019-06-01</td><td style = \"text-align: right;\">463.886</td><td style = \"text-align: right;\">463.859</td><td style = \"text-align: right;\">554.223</td><td style = \"text-align: right;\">556.956</td><td style = \"text-align: right;\">462.9</td><td style = \"text-align: right;\">3.63333</td><td style = \"text-align: right;\">1192.29</td><td style = \"text-align: right;\">2.39743</td><td style = \"text-align: right;\">2.33379</td><td style = \"text-align: right;\">3.59662</td><td style = \"text-align: right;\">17.572</td><td style = \"text-align: right;\">408.864</td></tr><tr><td class = \"rowNumber\" style = \"font-weight: bold; text-align: right;\">7</td><td style = \"text-align: left;\">2019-09-01</td><td style = \"text-align: right;\">464.126</td><td style = \"text-align: right;\">464.23</td><td style = \"text-align: right;\">554.553</td><td style = \"text-align: right;\">557.537</td><td style = \"text-align: right;\">462.904</td><td style = \"text-align: right;\">3.6</td><td style = \"text-align: right;\">1192.61</td><td style = \"text-align: right;\">2.19057</td><td style = \"text-align: right;\">1.79498</td><td style = \"text-align: right;\">3.10082</td><td style = \"text-align: right;\">17.7613</td><td style = \"text-align: right;\">403.174</td></tr><tr><td class = \"rowNumber\" style = \"font-weight: bold; text-align: right;\">8</td><td style = \"text-align: left;\">2019-12-01</td><td style = \"text-align: right;\">464.518</td><td style = \"text-align: right;\">464.581</td><td style = \"text-align: right;\">555.252</td><td style = \"text-align: right;\">558.166</td><td style = \"text-align: right;\">462.392</td><td style = \"text-align: right;\">3.6</td><td style = \"text-align: right;\">1192.93</td><td style = \"text-align: right;\">1.64466</td><td style = \"text-align: right;\">1.79393</td><td style = \"text-align: right;\">3.02423</td><td style = \"text-align: right;\">17.363</td><td style = \"text-align: right;\">404.139</td></tr></tbody></table></div>"
            ],
            "text/latex": "\\begin{tabular}{r|cccccccc}\n\t& date & pce\\_mean & pcecore\\_mean & cpi\\_mean & cpicore\\_mean & indpro\\_mean & unemp\\_mean & \\\\\n\t\\hline\n\t& Date & Float64 & Float64 & Float64 & Float64 & Float64 & Float64 & \\\\\n\t\\hline\n\t1 & 1984-03-01 & 386.764 & 385.817 & 463.018 & 463.311 & 397.505 & 7.86667 & $\\dots$ \\\\\n\t2 & 1984-06-01 & 387.729 & 386.982 & 463.957 & 464.535 & 399.047 & 7.43333 & $\\dots$ \\\\\n\t3 & 1984-09-01 & 388.497 & 387.916 & 464.823 & 465.776 & 399.73 & 7.43333 & $\\dots$ \\\\\n\t4 & 1984-12-01 & 389.112 & 388.625 & 465.681 & 466.783 & 399.778 & 7.3 & $\\dots$ \\\\\n\t5 & 2019-03-01 & 463.328 & 463.438 & 553.491 & 556.518 & 463.479 & 3.86667 & $\\dots$ \\\\\n\t6 & 2019-06-01 & 463.886 & 463.859 & 554.223 & 556.956 & 462.9 & 3.63333 & $\\dots$ \\\\\n\t7 & 2019-09-01 & 464.126 & 464.23 & 554.553 & 557.537 & 462.904 & 3.6 & $\\dots$ \\\\\n\t8 & 2019-12-01 & 464.518 & 464.581 & 555.252 & 558.166 & 462.392 & 3.6 & $\\dots$ \\\\\n\\end{tabular}\n"
          },
          "metadata": {},
          "execution_count": 30
        }
      ]
    },
    {
      "cell_type": "code",
      "source": [
        "Pkg.add(\"Interpolations\")"
      ],
      "metadata": {
        "collapsed": true,
        "colab": {
          "base_uri": "https://localhost:8080/"
        },
        "id": "3wAJnNchi2dc",
        "outputId": "cd90c730-7abf-4986-fdbe-e1c6f80632a5"
      },
      "execution_count": null,
      "outputs": [
        {
          "output_type": "stream",
          "name": "stderr",
          "text": [
            "\u001b[32m\u001b[1m   Resolving\u001b[22m\u001b[39m package versions...\n",
            "\u001b[32m\u001b[1m  No Changes\u001b[22m\u001b[39m to `~/.julia/environments/v1.10/Project.toml`\n",
            "\u001b[32m\u001b[1m  No Changes\u001b[22m\u001b[39m to `~/.julia/environments/v1.10/Manifest.toml`\n"
          ]
        }
      ]
    },
    {
      "cell_type": "code",
      "source": [
        "using Interpolations"
      ],
      "metadata": {
        "id": "n9izRjvOnfYg"
      },
      "execution_count": null,
      "outputs": []
    },
    {
      "cell_type": "code",
      "source": [
        "# 각 월의 일 수 차이로 변환 후 내삽\n",
        "Y = Matrix(DF_Q[:,2:end]);\n",
        "x_monthly = Dates.value.(DF_F.date .- DF_F.date[1]);\n",
        "x_quarterly = Dates.value.(DF_Q.date .- DF_Q.date[1]);\n",
        "results = map(i -> extrapolate(interpolate((x_quarterly,), Y[:, i], Gridded(Linear())), Line()).(x_monthly), 1:size(Y, 2));\n",
        "results = hcat(results...);\n",
        "\n",
        "DF_M_Interpolated = DataFrame(results, names(DF_Q,Not(:date)))  # 자동으로 x1, x2, ..., x12 라벨 부여\n",
        "DF_M_Interpolated.date = DF_F.date;\n",
        "select!(DF_M_Interpolated, :date, :);  # :date 열을 맨 앞으로\n",
        "DF_M_Interpolated[[1:6;end-5:end],:]"
      ],
      "metadata": {
        "colab": {
          "base_uri": "https://localhost:8080/",
          "height": 341
        },
        "id": "zKtpEgoYnf0N",
        "outputId": "91b55e96-a7a9-4fe5-f71d-722ba66b19e7"
      },
      "execution_count": null,
      "outputs": [
        {
          "output_type": "execute_result",
          "data": {
            "text/plain": [
              "\u001b[1m12×13 DataFrame\n",
              "\u001b[1m Row │\u001b[1m date       \u001b[1m pce_mean \u001b[1m pcecore_mean \u001b[1m cpi_mean \u001b[1m cpicore_mean \u001b[1m indpro_mean ⋯\n",
              "     │\u001b[90m Date       \u001b[90m Float64  \u001b[90m Float64      \u001b[90m Float64  \u001b[90m Float64      \u001b[90m Float64     ⋯\n",
              "─────┼──────────────────────────────────────────────────────────────────────────\n",
              "   1 │ 1984-01-01   386.764       385.817   463.018       463.311      397.505 ⋯\n",
              "   2 │ 1984-02-01   387.089       386.209   463.335       463.723      398.025\n",
              "   3 │ 1984-03-01   387.393       386.577   463.631       464.109      398.51\n",
              "   4 │ 1984-04-01   387.719       386.969   463.947       464.521      399.03\n",
              "   5 │ 1984-05-01   387.971       387.276   464.23        464.926      399.262 ⋯\n",
              "   6 │ 1984-06-01   388.23        387.591   464.522       465.344      399.492\n",
              "   7 │ 2019-07-01   464.121       464.222   554.545       557.525      462.903\n",
              "   8 │ 2019-08-01   464.251       464.342   554.776       557.738      462.741\n",
              "   9 │ 2019-09-01   464.385       464.461   555.014       557.952      462.566 ⋯\n",
              "  10 │ 2019-10-01   464.514       464.577   555.245       558.159      462.398\n",
              "  11 │ 2019-11-01   464.648       464.696   555.483       558.373      462.224\n",
              "  12 │ 2019-12-01   464.777       464.812   555.714       558.581      462.055\n",
              "\u001b[36m                                                               7 columns omitted"
            ],
            "text/html": [
              "<div><div style = \"float: left;\"><span>12×13 DataFrame</span></div><div style = \"clear: both;\"></div></div><div class = \"data-frame\" style = \"overflow-x: scroll;\"><table class = \"data-frame\" style = \"margin-bottom: 6px;\"><thead><tr class = \"header\"><th class = \"rowNumber\" style = \"font-weight: bold; text-align: right;\">Row</th><th style = \"text-align: left;\">date</th><th style = \"text-align: left;\">pce_mean</th><th style = \"text-align: left;\">pcecore_mean</th><th style = \"text-align: left;\">cpi_mean</th><th style = \"text-align: left;\">cpicore_mean</th><th style = \"text-align: left;\">indpro_mean</th><th style = \"text-align: left;\">unemp_mean</th><th style = \"text-align: left;\">employ_mean</th><th style = \"text-align: left;\">ffr_mean</th><th style = \"text-align: left;\">year10_mean</th><th style = \"text-align: left;\">corpbond_mean</th><th style = \"text-align: left;\">vehicle_mean</th><th style = \"text-align: left;\">oil_mean</th></tr><tr class = \"subheader headerLastRow\"><th class = \"rowNumber\" style = \"font-weight: bold; text-align: right;\"></th><th title = \"Date\" style = \"text-align: left;\">Date</th><th title = \"Float64\" style = \"text-align: left;\">Float64</th><th title = \"Float64\" style = \"text-align: left;\">Float64</th><th title = \"Float64\" style = \"text-align: left;\">Float64</th><th title = \"Float64\" style = \"text-align: left;\">Float64</th><th title = \"Float64\" style = \"text-align: left;\">Float64</th><th title = \"Float64\" style = \"text-align: left;\">Float64</th><th title = \"Float64\" style = \"text-align: left;\">Float64</th><th title = \"Float64\" style = \"text-align: left;\">Float64</th><th title = \"Float64\" style = \"text-align: left;\">Float64</th><th title = \"Float64\" style = \"text-align: left;\">Float64</th><th title = \"Float64\" style = \"text-align: left;\">Float64</th><th title = \"Float64\" style = \"text-align: left;\">Float64</th></tr></thead><tbody><tr><td class = \"rowNumber\" style = \"font-weight: bold; text-align: right;\">1</td><td style = \"text-align: left;\">1984-01-01</td><td style = \"text-align: right;\">386.764</td><td style = \"text-align: right;\">385.817</td><td style = \"text-align: right;\">463.018</td><td style = \"text-align: right;\">463.311</td><td style = \"text-align: right;\">397.505</td><td style = \"text-align: right;\">7.86667</td><td style = \"text-align: right;\">1144.13</td><td style = \"text-align: right;\">9.6864</td><td style = \"text-align: right;\">11.9452</td><td style = \"text-align: right;\">12.2857</td><td style = \"text-align: right;\">14.267</td><td style = \"text-align: right;\">340.769</td></tr><tr><td class = \"rowNumber\" style = \"font-weight: bold; text-align: right;\">2</td><td style = \"text-align: left;\">1984-02-01</td><td style = \"text-align: right;\">387.089</td><td style = \"text-align: right;\">386.209</td><td style = \"text-align: right;\">463.335</td><td style = \"text-align: right;\">463.723</td><td style = \"text-align: right;\">398.025</td><td style = \"text-align: right;\">7.72065</td><td style = \"text-align: right;\">1144.5</td><td style = \"text-align: right;\">9.97987</td><td style = \"text-align: right;\">12.3685</td><td style = \"text-align: right;\">12.5983</td><td style = \"text-align: right;\">14.3889</td><td style = \"text-align: right;\">340.96</td></tr><tr><td class = \"rowNumber\" style = \"font-weight: bold; text-align: right;\">3</td><td style = \"text-align: left;\">1984-03-01</td><td style = \"text-align: right;\">387.393</td><td style = \"text-align: right;\">386.577</td><td style = \"text-align: right;\">463.631</td><td style = \"text-align: right;\">464.109</td><td style = \"text-align: right;\">398.51</td><td style = \"text-align: right;\">7.58406</td><td style = \"text-align: right;\">1144.85</td><td style = \"text-align: right;\">10.2544</td><td style = \"text-align: right;\">12.7646</td><td style = \"text-align: right;\">12.8907</td><td style = \"text-align: right;\">14.5029</td><td style = \"text-align: right;\">341.139</td></tr><tr><td class = \"rowNumber\" style = \"font-weight: bold; text-align: right;\">4</td><td style = \"text-align: left;\">1984-04-01</td><td style = \"text-align: right;\">387.719</td><td style = \"text-align: right;\">386.969</td><td style = \"text-align: right;\">463.947</td><td style = \"text-align: right;\">464.521</td><td style = \"text-align: right;\">399.03</td><td style = \"text-align: right;\">7.43804</td><td style = \"text-align: right;\">1145.22</td><td style = \"text-align: right;\">10.5479</td><td style = \"text-align: right;\">13.188</td><td style = \"text-align: right;\">13.2033</td><td style = \"text-align: right;\">14.6247</td><td style = \"text-align: right;\">341.329</td></tr><tr><td class = \"rowNumber\" style = \"font-weight: bold; text-align: right;\">5</td><td style = \"text-align: left;\">1984-05-01</td><td style = \"text-align: right;\">387.971</td><td style = \"text-align: right;\">387.276</td><td style = \"text-align: right;\">464.23</td><td style = \"text-align: right;\">464.926</td><td style = \"text-align: right;\">399.262</td><td style = \"text-align: right;\">7.43333</td><td style = \"text-align: right;\">1145.55</td><td style = \"text-align: right;\">10.8202</td><td style = \"text-align: right;\">13.0962</td><td style = \"text-align: right;\">13.1429</td><td style = \"text-align: right;\">14.5352</td><td style = \"text-align: right;\">339.996</td></tr><tr><td class = \"rowNumber\" style = \"font-weight: bold; text-align: right;\">6</td><td style = \"text-align: left;\">1984-06-01</td><td style = \"text-align: right;\">388.23</td><td style = \"text-align: right;\">387.591</td><td style = \"text-align: right;\">464.522</td><td style = \"text-align: right;\">465.344</td><td style = \"text-align: right;\">399.492</td><td style = \"text-align: right;\">7.43333</td><td style = \"text-align: right;\">1145.88</td><td style = \"text-align: right;\">11.1012</td><td style = \"text-align: right;\">12.9834</td><td style = \"text-align: right;\">13.0674</td><td style = \"text-align: right;\">14.4352</td><td style = \"text-align: right;\">338.563</td></tr><tr><td class = \"rowNumber\" style = \"font-weight: bold; text-align: right;\">7</td><td style = \"text-align: left;\">2019-07-01</td><td style = \"text-align: right;\">464.121</td><td style = \"text-align: right;\">464.222</td><td style = \"text-align: right;\">554.545</td><td style = \"text-align: right;\">557.525</td><td style = \"text-align: right;\">462.903</td><td style = \"text-align: right;\">3.60072</td><td style = \"text-align: right;\">1192.6</td><td style = \"text-align: right;\">2.19507</td><td style = \"text-align: right;\">1.8067</td><td style = \"text-align: right;\">3.1116</td><td style = \"text-align: right;\">17.7572</td><td style = \"text-align: right;\">403.298</td></tr><tr><td class = \"rowNumber\" style = \"font-weight: bold; text-align: right;\">8</td><td style = \"text-align: left;\">2019-08-01</td><td style = \"text-align: right;\">464.251</td><td style = \"text-align: right;\">464.342</td><td style = \"text-align: right;\">554.776</td><td style = \"text-align: right;\">557.738</td><td style = \"text-align: right;\">462.741</td><td style = \"text-align: right;\">3.6</td><td style = \"text-align: right;\">1192.71</td><td style = \"text-align: right;\">2.0166</td><td style = \"text-align: right;\">1.79465</td><td style = \"text-align: right;\">3.07641</td><td style = \"text-align: right;\">17.6344</td><td style = \"text-align: right;\">403.481</td></tr><tr><td class = \"rowNumber\" style = \"font-weight: bold; text-align: right;\">9</td><td style = \"text-align: left;\">2019-09-01</td><td style = \"text-align: right;\">464.385</td><td style = \"text-align: right;\">464.461</td><td style = \"text-align: right;\">555.014</td><td style = \"text-align: right;\">557.952</td><td style = \"text-align: right;\">462.566</td><td style = \"text-align: right;\">3.6</td><td style = \"text-align: right;\">1192.82</td><td style = \"text-align: right;\">1.83063</td><td style = \"text-align: right;\">1.79429</td><td style = \"text-align: right;\">3.05032</td><td style = \"text-align: right;\">17.4987</td><td style = \"text-align: right;\">403.81</td></tr><tr><td class = \"rowNumber\" style = \"font-weight: bold; text-align: right;\">10</td><td style = \"text-align: left;\">2019-10-01</td><td style = \"text-align: right;\">464.514</td><td style = \"text-align: right;\">464.577</td><td style = \"text-align: right;\">555.245</td><td style = \"text-align: right;\">558.159</td><td style = \"text-align: right;\">462.398</td><td style = \"text-align: right;\">3.6</td><td style = \"text-align: right;\">1192.92</td><td style = \"text-align: right;\">1.65066</td><td style = \"text-align: right;\">1.79394</td><td style = \"text-align: right;\">3.02507</td><td style = \"text-align: right;\">17.3674</td><td style = \"text-align: right;\">404.128</td></tr><tr><td class = \"rowNumber\" style = \"font-weight: bold; text-align: right;\">11</td><td style = \"text-align: left;\">2019-11-01</td><td style = \"text-align: right;\">464.648</td><td style = \"text-align: right;\">464.696</td><td style = \"text-align: right;\">555.483</td><td style = \"text-align: right;\">558.373</td><td style = \"text-align: right;\">462.224</td><td style = \"text-align: right;\">3.6</td><td style = \"text-align: right;\">1193.03</td><td style = \"text-align: right;\">1.46469</td><td style = \"text-align: right;\">1.79358</td><td style = \"text-align: right;\">2.99898</td><td style = \"text-align: right;\">17.2317</td><td style = \"text-align: right;\">404.457</td></tr><tr><td class = \"rowNumber\" style = \"font-weight: bold; text-align: right;\">12</td><td style = \"text-align: left;\">2019-12-01</td><td style = \"text-align: right;\">464.777</td><td style = \"text-align: right;\">464.812</td><td style = \"text-align: right;\">555.714</td><td style = \"text-align: right;\">558.581</td><td style = \"text-align: right;\">462.055</td><td style = \"text-align: right;\">3.6</td><td style = \"text-align: right;\">1193.14</td><td style = \"text-align: right;\">1.28472</td><td style = \"text-align: right;\">1.79323</td><td style = \"text-align: right;\">2.97373</td><td style = \"text-align: right;\">17.1004</td><td style = \"text-align: right;\">404.775</td></tr></tbody></table></div>"
            ],
            "text/latex": "\\begin{tabular}{r|cccccccc}\n\t& date & pce\\_mean & pcecore\\_mean & cpi\\_mean & cpicore\\_mean & indpro\\_mean & unemp\\_mean & \\\\\n\t\\hline\n\t& Date & Float64 & Float64 & Float64 & Float64 & Float64 & Float64 & \\\\\n\t\\hline\n\t1 & 1984-01-01 & 386.764 & 385.817 & 463.018 & 463.311 & 397.505 & 7.86667 & $\\dots$ \\\\\n\t2 & 1984-02-01 & 387.089 & 386.209 & 463.335 & 463.723 & 398.025 & 7.72065 & $\\dots$ \\\\\n\t3 & 1984-03-01 & 387.393 & 386.577 & 463.631 & 464.109 & 398.51 & 7.58406 & $\\dots$ \\\\\n\t4 & 1984-04-01 & 387.719 & 386.969 & 463.947 & 464.521 & 399.03 & 7.43804 & $\\dots$ \\\\\n\t5 & 1984-05-01 & 387.971 & 387.276 & 464.23 & 464.926 & 399.262 & 7.43333 & $\\dots$ \\\\\n\t6 & 1984-06-01 & 388.23 & 387.591 & 464.522 & 465.344 & 399.492 & 7.43333 & $\\dots$ \\\\\n\t7 & 2019-07-01 & 464.121 & 464.222 & 554.545 & 557.525 & 462.903 & 3.60072 & $\\dots$ \\\\\n\t8 & 2019-08-01 & 464.251 & 464.342 & 554.776 & 557.738 & 462.741 & 3.6 & $\\dots$ \\\\\n\t9 & 2019-09-01 & 464.385 & 464.461 & 555.014 & 557.952 & 462.566 & 3.6 & $\\dots$ \\\\\n\t10 & 2019-10-01 & 464.514 & 464.577 & 555.245 & 558.159 & 462.398 & 3.6 & $\\dots$ \\\\\n\t11 & 2019-11-01 & 464.648 & 464.696 & 555.483 & 558.373 & 462.224 & 3.6 & $\\dots$ \\\\\n\t12 & 2019-12-01 & 464.777 & 464.812 & 555.714 & 558.581 & 462.055 & 3.6 & $\\dots$ \\\\\n\\end{tabular}\n"
          },
          "metadata": {},
          "execution_count": 63
        }
      ]
    },
    {
      "cell_type": "markdown",
      "source": [
        "Estimate a Bayesian VAR"
      ],
      "metadata": {
        "id": "mwOVJLFle5Kc"
      }
    },
    {
      "cell_type": "code",
      "source": [
        "# When all Latent variables were observable\n",
        "Y = Matrix(DF_F[:,Not(([:date]))]);\n",
        "T,k = size(Y)"
      ],
      "metadata": {
        "id": "QP2RWIDZ825A",
        "colab": {
          "base_uri": "https://localhost:8080/"
        },
        "outputId": "54647d25-cad2-4dd1-be3d-3d582fb98735"
      },
      "execution_count": null,
      "outputs": [
        {
          "output_type": "execute_result",
          "data": {
            "text/plain": [
              "(432, 12)"
            ]
          },
          "metadata": {},
          "execution_count": 64
        }
      ]
    },
    {
      "cell_type": "code",
      "source": [
        "p=6;"
      ],
      "metadata": {
        "id": "2kikhjiMh7EV"
      },
      "execution_count": null,
      "outputs": []
    },
    {
      "cell_type": "code",
      "source": [
        "prod(size(Y))"
      ],
      "metadata": {
        "colab": {
          "base_uri": "https://localhost:8080/"
        },
        "id": "gxoNqchUarhD",
        "outputId": "4ffac89c-ba6b-45f1-a905-a1ba1771e57e"
      },
      "execution_count": null,
      "outputs": [
        {
          "output_type": "execute_result",
          "data": {
            "text/plain": [
              "5184"
            ]
          },
          "metadata": {},
          "execution_count": 100
        }
      ]
    },
    {
      "cell_type": "code",
      "source": [],
      "metadata": {
        "id": "B9tp535RUKq5"
      },
      "execution_count": null,
      "outputs": []
    },
    {
      "cell_type": "code",
      "source": [
        "function prior_init(Y::Matrix{Float64},p::Int,log_level::Vector{Int},lambda1::Float64=0.09, lambda2::Float64=4.3,lambda3::Float64=1,lambda4::Float64=2.7,lambda5::Float64=4.3,includeconstant::Bool=true)\n",
        "# Initialized prior(Minnesota prior)\n",
        "  T,k = size(Y);\n",
        "  # prior for Innovation Covariance matrix\n",
        "  S0 = zeros(k,k);\n",
        "  # Estimate standard errors of AR(1) for each variable\n",
        "  for i=1:k\n",
        "    y = Y[:,i];\n",
        "    epsilon = y[2:end]-hcat(ones(T-1,1), y[1:end-1])*(hcat(ones(T-1,1), y[1:end-1])\\y[2:end]);\n",
        "    S0[i,i] = epsilon'epsilon/T;\n",
        "  end\n",
        "\n",
        "  # prior for coefficients\n",
        "  B0 = zeros(k,k*p);\n",
        "  B0[log_level,log_level]=1; # For nonstationary variables\n",
        "  B0[setdiff(1:k,log_level),setdiff(1:k,log_level)]=.5; # For stationary variables\n",
        "  if includeconstant;\n",
        "    B0 = hcat(zeros(k,1),B0);\n",
        "  end\n",
        "  V0 = ones(prod(size(B0)))\n",
        "\n",
        "  return B0, V0, ν0, S0, MN_hyper(lambda1,lambda2,lambda3,lambda4,lambda5,delta)\n",
        "end"
      ],
      "metadata": {
        "id": "ZIPMQSu3MQhs"
      },
      "execution_count": null,
      "outputs": []
    },
    {
      "cell_type": "code",
      "source": [
        "function gibbs_bvar(Y::Matrix, p::Int, n_draws::Int = 2000, burnin::Int = 1000, MN_hyper::MN_hyper,log_level::Matrix{Int})\n",
        "    T, k = size(Y)\n",
        "    X, Y_target = make_lag_matrix(Y, p)\n",
        "\n",
        "    B0, V0, ν0, S0 = make_dummies(n,p,MN_hyper)\n",
        "\n",
        "    V0_inv = inv(V0)\n",
        "    B_samples = Vector{Matrix{Float64}}()\n",
        "    Σ_samples = Vector{Matrix{Float64}}()\n",
        "\n",
        "    # 초기값\n",
        "    Σ = Matrix(I, n, n)\n",
        "\n",
        "    for s in 1:n_draws\n",
        "        # posterior of B | Σ\n",
        "        V_post = inv(X'X + inv(V0))                  # k × k\n",
        "        B_post_mean = V_post * (X'Y_target + inv(V0) * B0)  # k × n\n",
        "        B_draw = reshape(rand(MvNormal(B_post_mean, Vn)), k, n)\n",
        "\n",
        "        # residual\n",
        "        E = Y_target - X * B_draw\n",
        "\n",
        "        # posterior of Σ | B\n",
        "        Sn = S0 + E'E\n",
        "        Σ = inv(rand(Wishart(ν0 + size(Y_target, 1), inv(Sn))))\n",
        "\n",
        "        push!(B_samples, B_draw)\n",
        "        push!(Σ_samples, Σ)\n",
        "    end\n",
        "\n",
        "    return B_samples, Σ_samples\n",
        "end\n",
        "\n",
        "function make_lag_matrix(Y::Matrix, p::Int)\n",
        "    T, n = size(Y)\n",
        "    X = hcat([Y[p - i + 1:end - i, :] for i in 1:p]...)  # concaternating lag matrices\n",
        "    X = hcat(ones(T - p), X)  # 상수항\n",
        "    Y_target = Y[p+1:end, :]\n",
        "    return X, Y_target\n",
        "end\n",
        "\n",
        "function make_dummies(n::Int,p::Int,lambda1::Float64=0.09, lambda2::Float64=4.3,lambda3::Float64=1,lambda4::Float64=2.7,lambda5::Float64=4.3)\n",
        "    dummy_obs\n",
        "\n",
        "    return dummy_obs, MN_hyper(lambda1,lambda2,lambda3,lambda4,lambda5,delta)\n",
        "end"
      ],
      "metadata": {
        "id": "T5cnKiCPh8LM",
        "colab": {
          "base_uri": "https://localhost:8080/"
        },
        "outputId": "3acadfa0-c02d-4bbc-9901-71ce76121997"
      },
      "execution_count": null,
      "outputs": [
        {
          "output_type": "execute_result",
          "data": {
            "text/plain": [
              "init_priors (generic function with 1 method)"
            ]
          },
          "metadata": {},
          "execution_count": 36
        }
      ]
    },
    {
      "cell_type": "code",
      "source": [
        "struct MN_hyper\n",
        "    lambda1::Float64       # overall tightness\n",
        "    lambda2::Float64       # the rate at which the prior variance on higher-order lag coefficients decays\n",
        "    lambda3::Float64    # Dispersion of the prior on the innovation covariance matrix\n",
        "    lambda4::Float64    # Sum of coefficient prior\n",
        "    lambda5::Float64    # the extent to which co-persistence restrictions are imposed on the VAR coefficients\n",
        "end"
      ],
      "metadata": {
        "id": "OOITAyTchV-u",
        "colab": {
          "base_uri": "https://localhost:8080/",
          "height": 126
        },
        "outputId": "ec8dd3e9-8679-480f-d2cd-4522eb9e0af8"
      },
      "execution_count": null,
      "outputs": [
        {
          "output_type": "error",
          "ename": "LoadError",
          "evalue": "invalid redefinition of constant Main.MN_hyper",
          "traceback": [
            "invalid redefinition of constant Main.MN_hyper",
            "",
            "Stacktrace:",
            " [1] top-level scope",
            "   @ In[40]:1"
          ]
        }
      ]
    },
    {
      "cell_type": "code",
      "source": [
        "typeof(log_level)"
      ],
      "metadata": {
        "colab": {
          "base_uri": "https://localhost:8080/"
        },
        "id": "I8N04gNnLfN_",
        "outputId": "2b43cef5-19db-499a-908b-c8a009341cfd"
      },
      "execution_count": null,
      "outputs": [
        {
          "output_type": "execute_result",
          "data": {
            "text/plain": [
              "Matrix{Int64}\u001b[90m (alias for \u001b[39m\u001b[90mArray{Int64, 2}\u001b[39m\u001b[90m)\u001b[39m"
            ]
          },
          "metadata": {},
          "execution_count": 43
        }
      ]
    },
    {
      "cell_type": "code",
      "source": [
        "function make_dummy_observations(n::Int, p::Int, λ1::Float64, λ3::Float64, ψ::Vector{Float64}, δ::Vector{Float64})\n",
        "    # Own-lag prior\n",
        "    ψ =\n",
        "    Y_d1 = λ1 * Diagonal(ψ .* δ)\n",
        "    X_d1 = λ1 * hcat(kron(Diagonal(ψ), ones(p)), zeros(n, 1))\n",
        "\n",
        "    # Sum-of-coefficients prior\n",
        "    Y_d2 = λ3 * (ψ .* δ)'\n",
        "    X_d2 = λ3 * hcat(kron(ones(1, p), (ψ .* δ)'), zeros(1, 1))\n",
        "\n",
        "    # Combine dummy observations\n",
        "    Y_d = vcat(Y_d1, Y_d2)\n",
        "    X_d = vcat(X_d1, X_d2)\n",
        "\n",
        "    return Y_d, X_d\n",
        "end\n"
      ],
      "metadata": {
        "id": "Yh4vGPM8hWIg"
      },
      "execution_count": null,
      "outputs": []
    },
    {
      "cell_type": "code",
      "source": [],
      "metadata": {
        "id": "TfF0sXGZhWPj"
      },
      "execution_count": null,
      "outputs": []
    }
  ]
}