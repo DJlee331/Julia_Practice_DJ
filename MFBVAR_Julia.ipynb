{
  "cells": [
    {
      "cell_type": "markdown",
      "metadata": {
        "colab_type": "text",
        "id": "view-in-github"
      },
      "source": [
        "<a href=\"https://colab.research.google.com/github/DJlee331/Julia_Practice_DJ/blob/main/BVAR_JUlia.ipynb\" target=\"_parent\"><img src=\"https://colab.research.google.com/assets/colab-badge.svg\" alt=\"Open In Colab\"/></a>"
      ]
    },
    {
      "cell_type": "code",
      "execution_count": 1,
      "metadata": {
        "colab": {
          "base_uri": "https://localhost:8080/"
        },
        "collapsed": true,
        "id": "GRWYCUnqchmm",
        "outputId": "7efab435-824f-4bac-e486-e19764cc6012"
      },
      "outputs": [],
      "source": [
        "# using Pkg\n",
        "# Pkg.add(\"FredData\")\n",
        "# Pkg.add(\"Dates\")\n",
        "# Pkg.add(\"Distributions\")"
      ]
    },
    {
      "cell_type": "code",
      "execution_count": 2,
      "metadata": {
        "colab": {
          "base_uri": "https://localhost:8080/"
        },
        "id": "bWzu7BtMnUjq",
        "outputId": "dfa1b478-171b-4dec-e427-b61256d8bf97"
      },
      "outputs": [
        {
          "data": {
            "text/plain": [
              "TaskLocalRNG()"
            ]
          },
          "metadata": {},
          "output_type": "display_data"
        }
      ],
      "source": [
        "using DataFrames, CSV\n",
        "using Statistics, LinearAlgebra\n",
        "using Random, Distributions\n",
        "Random.seed!(4412)"
      ]
    },
    {
      "cell_type": "code",
      "execution_count": 3,
      "metadata": {
        "id": "F1Gb-Qe2Ybpb"
      },
      "outputs": [],
      "source": [
        "using FredData\n",
        "using Dates"
      ]
    },
    {
      "cell_type": "code",
      "execution_count": 4,
      "metadata": {
        "colab": {
          "base_uri": "https://localhost:8080/"
        },
        "id": "V_1caBi_d4hT",
        "outputId": "02ef9857-d1e7-4150-cc4b-8475c31a11c3"
      },
      "outputs": [
        {
          "data": {
            "text/plain": [
              "FRED API Connection\n",
              "\turl: https://api.stlouisfed.org/fred/\n",
              "\tkey: adeee66f40c0687c4decaba2442fcaff\n"
            ]
          },
          "metadata": {},
          "output_type": "display_data"
        }
      ],
      "source": [
        "fred = FredData.Fred(\"adeee66f40c0687c4decaba2442fcaff\") # Replace YOUR_FRED_API_KEY with your key"
      ]
    },
    {
      "cell_type": "code",
      "execution_count": 5,
      "metadata": {
        "colab": {
          "base_uri": "https://localhost:8080/"
        },
        "id": "ehBlHLgyd4sv",
        "outputId": "696faec1-1b53-4879-fd7d-6d4b0c5afb87"
      },
      "outputs": [
        {
          "name": "stderr",
          "output_type": "stream",
          "text": [
            "┌ Warning: Metadata 'notes' not returned from server.\n",
            "└ @ FredData /Users/dj/.julia/packages/FredData/5M7x4/src/get_data.jl:77\n"
          ]
        }
      ],
      "source": [
        "# 2. 시리즈 ID로 데이터 요청 (예: GDP)\n",
        "DF = get_data(fred, \"PCEPI\").data[:,[:date,:value]]; # PCE\n",
        "rename!(DF,:value => :pce);\n",
        "series = get_data(fred, \"PCEPILFE\").data[:,[:date,:value]]; # PCE core\n",
        "rename!(series,:value => :pcecore);\n",
        "DF = outerjoin(DF,series, on = :date);\n",
        "series = get_data(fred, \"CPIAUCSL\").data[:,[:date,:value]]; # CPI\n",
        "rename!(series,:value => :cpi);\n",
        "DF = outerjoin(DF,series, on = :date);\n",
        "series = get_data(fred, \"CPILFESL\").data[:,[:date,:value]]; # CPI Core\n",
        "rename!(series,:value => :cpicore);\n",
        "DF = outerjoin(DF,series, on = :date);\n",
        "#series = get_data(fred, \"T10YIE\").data[:,[:date,:value]]; # 10year BEI\n",
        "#rename!(series,:value => :bei);\n",
        "#DF = outerjoin(DF,series, on = :date);\n",
        "series = get_data(fred, \"INDPRO\").data[:,[:date,:value]]; # Industrial Production\n",
        "rename!(series,:value => :indpro);\n",
        "DF = outerjoin(DF,series, on = :date);\n",
        "series = get_data(fred, \"UNRATE\").data[:,[:date,:value]]; # Unemployment Rate\n",
        "rename!(series,:value => :unemp);\n",
        "DF = outerjoin(DF,series, on = :date);\n",
        "series = get_data(fred, \"PAYEMS\").data[:,[:date,:value]]; # Total NonFarm employees\n",
        "rename!(series,:value => :employ);\n",
        "DF = outerjoin(DF,series, on = :date);\n",
        "series = get_data(fred, \"DFF\").data[:,[:date,:value]]; # Federal funds effective rate\n",
        "rename!(series,:value => :ffr);\n",
        "DF = outerjoin(DF,series, on = :date);\n",
        "series = get_data(fred, \"DGS10\").data[:,[:date,:value]]; # Market yield on Us Treasury 10y\n",
        "rename!(series,:value => :year10);\n",
        "DF = outerjoin(DF,series, on = :date);\n",
        "series = get_data(fred, \"DAAA\").data[:,[:date,:value]]; # Moody's Seasoned Aaa Corporate bond yield\n",
        "rename!(series,:value => :corpbond);\n",
        "DF = outerjoin(DF,series, on = :date);\n",
        "#series = get_data(fred, \"MSPUS\").data[:,[:date,:value]]; # Median Sales Price of Houses Sold for the United States\n",
        "#rename!(series,:value => :hpi);\n",
        "#DF = outerjoin(DF,series, on = :date);\n",
        "series = get_data(fred, \"TOTALSA\").data[:,[:date,:value]]; # Total Vehicle Sales\n",
        "rename!(series,:value => :vehicle);\n",
        "DF = outerjoin(DF,series, on = :date);\n",
        "series = get_data(fred, \"WTISPLC\").data[:,[:date,:value]]; # Spot Crude Oil Price: West Texas Intermediate (WTI)\n",
        "rename!(series,:value => :oil);\n",
        "DF = outerjoin(DF,series, on = :date);"
      ]
    },
    {
      "cell_type": "code",
      "execution_count": 6,
      "metadata": {
        "colab": {
          "base_uri": "https://localhost:8080/",
          "height": 299
        },
        "id": "XmbKs8h5aSLJ",
        "outputId": "7df0862b-8fe7-41a2-d147-3930387d84ce"
      },
      "outputs": [
        {
          "data": {
            "text/html": [
              "<div><div style = \"float: left;\"><span>10×13 DataFrame</span></div><div style = \"clear: both;\"></div></div><div class = \"data-frame\" style = \"overflow-x: scroll;\"><table class = \"data-frame\" style = \"margin-bottom: 6px;\"><thead><tr class = \"header\"><th class = \"rowNumber\" style = \"font-weight: bold; text-align: right;\">Row</th><th style = \"text-align: left;\">date</th><th style = \"text-align: left;\">pce</th><th style = \"text-align: left;\">pcecore</th><th style = \"text-align: left;\">cpi</th><th style = \"text-align: left;\">cpicore</th><th style = \"text-align: left;\">indpro</th><th style = \"text-align: left;\">unemp</th><th style = \"text-align: left;\">employ</th><th style = \"text-align: left;\">ffr</th><th style = \"text-align: left;\">year10</th><th style = \"text-align: left;\">corpbond</th><th style = \"text-align: left;\">vehicle</th><th style = \"text-align: left;\">oil</th></tr><tr class = \"subheader headerLastRow\"><th class = \"rowNumber\" style = \"font-weight: bold; text-align: right;\"></th><th title = \"Date\" style = \"text-align: left;\">Date</th><th title = \"Float64\" style = \"text-align: left;\">Float64</th><th title = \"Float64\" style = \"text-align: left;\">Float64</th><th title = \"Float64\" style = \"text-align: left;\">Float64</th><th title = \"Float64\" style = \"text-align: left;\">Float64</th><th title = \"Float64\" style = \"text-align: left;\">Float64</th><th title = \"Float64\" style = \"text-align: left;\">Float64</th><th title = \"Float64\" style = \"text-align: left;\">Float64</th><th title = \"Float64\" style = \"text-align: left;\">Float64</th><th title = \"Float64\" style = \"text-align: left;\">Float64</th><th title = \"Float64\" style = \"text-align: left;\">Float64</th><th title = \"Float64\" style = \"text-align: left;\">Float64</th><th title = \"Float64\" style = \"text-align: left;\">Float64</th></tr></thead><tbody><tr><td class = \"rowNumber\" style = \"font-weight: bold; text-align: right;\">1</td><td style = \"text-align: left;\">1984-01-01</td><td style = \"text-align: right;\">47.564</td><td style = \"text-align: right;\">47.121</td><td style = \"text-align: right;\">102.1</td><td style = \"text-align: right;\">102.5</td><td style = \"text-align: right;\">53.0088</td><td style = \"text-align: right;\">8.0</td><td style = \"text-align: right;\">92673.0</td><td style = \"text-align: right;\">9.55839</td><td style = \"text-align: right;\">11.6743</td><td style = \"text-align: right;\">12.2</td><td style = \"text-align: right;\">14.21</td><td style = \"text-align: right;\">29.69</td></tr><tr><td class = \"rowNumber\" style = \"font-weight: bold; text-align: right;\">2</td><td style = \"text-align: left;\">1984-02-01</td><td style = \"text-align: right;\">47.884</td><td style = \"text-align: right;\">47.418</td><td style = \"text-align: right;\">102.6</td><td style = \"text-align: right;\">102.8</td><td style = \"text-align: right;\">53.2486</td><td style = \"text-align: right;\">7.8</td><td style = \"text-align: right;\">93157.0</td><td style = \"text-align: right;\">9.58759</td><td style = \"text-align: right;\">11.8421</td><td style = \"text-align: right;\">12.0835</td><td style = \"text-align: right;\">14.381</td><td style = \"text-align: right;\">30.145</td></tr><tr><td class = \"rowNumber\" style = \"font-weight: bold; text-align: right;\">3</td><td style = \"text-align: left;\">1984-03-01</td><td style = \"text-align: right;\">48.041</td><td style = \"text-align: right;\">47.598</td><td style = \"text-align: right;\">102.9</td><td style = \"text-align: right;\">103.2</td><td style = \"text-align: right;\">53.5028</td><td style = \"text-align: right;\">7.8</td><td style = \"text-align: right;\">93429.0</td><td style = \"text-align: right;\">9.91323</td><td style = \"text-align: right;\">12.3191</td><td style = \"text-align: right;\">12.5736</td><td style = \"text-align: right;\">14.21</td><td style = \"text-align: right;\">30.761</td></tr><tr><td class = \"rowNumber\" style = \"font-weight: bold; text-align: right;\">4</td><td style = \"text-align: left;\">1984-04-01</td><td style = \"text-align: right;\">48.224</td><td style = \"text-align: right;\">47.822</td><td style = \"text-align: right;\">103.3</td><td style = \"text-align: right;\">103.7</td><td style = \"text-align: right;\">53.8233</td><td style = \"text-align: right;\">7.7</td><td style = \"text-align: right;\">93792.0</td><td style = \"text-align: right;\">10.291</td><td style = \"text-align: right;\">12.6335</td><td style = \"text-align: right;\">12.8085</td><td style = \"text-align: right;\">14.357</td><td style = \"text-align: right;\">30.618</td></tr><tr><td class = \"rowNumber\" style = \"font-weight: bold; text-align: right;\">5</td><td style = \"text-align: left;\">1984-05-01</td><td style = \"text-align: right;\">48.285</td><td style = \"text-align: right;\">47.933</td><td style = \"text-align: right;\">103.5</td><td style = \"text-align: right;\">104.1</td><td style = \"text-align: right;\">54.1104</td><td style = \"text-align: right;\">7.4</td><td style = \"text-align: right;\">94098.0</td><td style = \"text-align: right;\">10.3194</td><td style = \"text-align: right;\">13.4086</td><td style = \"text-align: right;\">13.2827</td><td style = \"text-align: right;\">14.856</td><td style = \"text-align: right;\">30.52</td></tr><tr><td class = \"rowNumber\" style = \"font-weight: bold; text-align: right;\">6</td><td style = \"text-align: left;\">2019-08-01</td><td style = \"text-align: right;\">103.67</td><td style = \"text-align: right;\">103.797</td><td style = \"text-align: right;\">256.036</td><td style = \"text-align: right;\">263.877</td><td style = \"text-align: right;\">102.781</td><td style = \"text-align: right;\">3.6</td><td style = \"text-align: right;\">151171.0</td><td style = \"text-align: right;\">2.12581</td><td style = \"text-align: right;\">1.62636</td><td style = \"text-align: right;\">2.97727</td><td style = \"text-align: right;\">17.882</td><td style = \"text-align: right;\">54.81</td></tr><tr><td class = \"rowNumber\" style = \"font-weight: bold; text-align: right;\">7</td><td style = \"text-align: left;\">2019-09-01</td><td style = \"text-align: right;\">103.733</td><td style = \"text-align: right;\">103.873</td><td style = \"text-align: right;\">256.43</td><td style = \"text-align: right;\">264.388</td><td style = \"text-align: right;\">102.46</td><td style = \"text-align: right;\">3.5</td><td style = \"text-align: right;\">151365.0</td><td style = \"text-align: right;\">2.043</td><td style = \"text-align: right;\">1.6995</td><td style = \"text-align: right;\">3.032</td><td style = \"text-align: right;\">17.72</td><td style = \"text-align: right;\">56.95</td></tr><tr><td class = \"rowNumber\" style = \"font-weight: bold; text-align: right;\">8</td><td style = \"text-align: left;\">2019-10-01</td><td style = \"text-align: right;\">103.917</td><td style = \"text-align: right;\">104.028</td><td style = \"text-align: right;\">257.155</td><td style = \"text-align: right;\">264.97</td><td style = \"text-align: right;\">101.588</td><td style = \"text-align: right;\">3.6</td><td style = \"text-align: right;\">151460.0</td><td style = \"text-align: right;\">1.82968</td><td style = \"text-align: right;\">1.70682</td><td style = \"text-align: right;\">3.00818</td><td style = \"text-align: right;\">17.049</td><td style = \"text-align: right;\">53.96</td></tr><tr><td class = \"rowNumber\" style = \"font-weight: bold; text-align: right;\">9</td><td style = \"text-align: left;\">2019-11-01</td><td style = \"text-align: right;\">104.024</td><td style = \"text-align: right;\">104.092</td><td style = \"text-align: right;\">257.879</td><td style = \"text-align: right;\">265.548</td><td style = \"text-align: right;\">102.149</td><td style = \"text-align: right;\">3.6</td><td style = \"text-align: right;\">151668.0</td><td style = \"text-align: right;\">1.55333</td><td style = \"text-align: right;\">1.81211</td><td style = \"text-align: right;\">3.05737</td><td style = \"text-align: right;\">17.549</td><td style = \"text-align: right;\">57.03</td></tr><tr><td class = \"rowNumber\" style = \"font-weight: bold; text-align: right;\">10</td><td style = \"text-align: left;\">2019-12-01</td><td style = \"text-align: right;\">104.307</td><td style = \"text-align: right;\">104.322</td><td style = \"text-align: right;\">258.63</td><td style = \"text-align: right;\">266.02</td><td style = \"text-align: right;\">101.942</td><td style = \"text-align: right;\">3.6</td><td style = \"text-align: right;\">151795.0</td><td style = \"text-align: right;\">1.55097</td><td style = \"text-align: right;\">1.86286</td><td style = \"text-align: right;\">3.00714</td><td style = \"text-align: right;\">17.491</td><td style = \"text-align: right;\">59.88</td></tr></tbody></table></div>"
            ],
            "text/latex": [
              "\\begin{tabular}{r|cccccccccc}\n",
              "\t& date & pce & pcecore & cpi & cpicore & indpro & unemp & employ & ffr & \\\\\n",
              "\t\\hline\n",
              "\t& Date & Float64 & Float64 & Float64 & Float64 & Float64 & Float64 & Float64 & Float64 & \\\\\n",
              "\t\\hline\n",
              "\t1 & 1984-01-01 & 47.564 & 47.121 & 102.1 & 102.5 & 53.0088 & 8.0 & 92673.0 & 9.55839 & $\\dots$ \\\\\n",
              "\t2 & 1984-02-01 & 47.884 & 47.418 & 102.6 & 102.8 & 53.2486 & 7.8 & 93157.0 & 9.58759 & $\\dots$ \\\\\n",
              "\t3 & 1984-03-01 & 48.041 & 47.598 & 102.9 & 103.2 & 53.5028 & 7.8 & 93429.0 & 9.91323 & $\\dots$ \\\\\n",
              "\t4 & 1984-04-01 & 48.224 & 47.822 & 103.3 & 103.7 & 53.8233 & 7.7 & 93792.0 & 10.291 & $\\dots$ \\\\\n",
              "\t5 & 1984-05-01 & 48.285 & 47.933 & 103.5 & 104.1 & 54.1104 & 7.4 & 94098.0 & 10.3194 & $\\dots$ \\\\\n",
              "\t6 & 2019-08-01 & 103.67 & 103.797 & 256.036 & 263.877 & 102.781 & 3.6 & 151171.0 & 2.12581 & $\\dots$ \\\\\n",
              "\t7 & 2019-09-01 & 103.733 & 103.873 & 256.43 & 264.388 & 102.46 & 3.5 & 151365.0 & 2.043 & $\\dots$ \\\\\n",
              "\t8 & 2019-10-01 & 103.917 & 104.028 & 257.155 & 264.97 & 101.588 & 3.6 & 151460.0 & 1.82968 & $\\dots$ \\\\\n",
              "\t9 & 2019-11-01 & 104.024 & 104.092 & 257.879 & 265.548 & 102.149 & 3.6 & 151668.0 & 1.55333 & $\\dots$ \\\\\n",
              "\t10 & 2019-12-01 & 104.307 & 104.322 & 258.63 & 266.02 & 101.942 & 3.6 & 151795.0 & 1.55097 & $\\dots$ \\\\\n",
              "\\end{tabular}\n"
            ],
            "text/plain": [
              "\u001b[1m10×13 DataFrame\u001b[0m\n",
              "\u001b[1m Row \u001b[0m│\u001b[1m date       \u001b[0m\u001b[1m pce     \u001b[0m\u001b[1m pcecore \u001b[0m\u001b[1m cpi     \u001b[0m\u001b[1m cpicore \u001b[0m\u001b[1m indpro   \u001b[0m\u001b[1m unemp   \u001b[0m\u001b[1m empl\u001b[0m ⋯\n",
              "     │\u001b[90m Date       \u001b[0m\u001b[90m Float64 \u001b[0m\u001b[90m Float64 \u001b[0m\u001b[90m Float64 \u001b[0m\u001b[90m Float64 \u001b[0m\u001b[90m Float64  \u001b[0m\u001b[90m Float64 \u001b[0m\u001b[90m Floa\u001b[0m ⋯\n",
              "─────┼──────────────────────────────────────────────────────────────────────────\n",
              "   1 │ 1984-01-01   47.564   47.121  102.1    102.5     53.0088      8.0   926 ⋯\n",
              "   2 │ 1984-02-01   47.884   47.418  102.6    102.8     53.2486      7.8   931\n",
              "   3 │ 1984-03-01   48.041   47.598  102.9    103.2     53.5028      7.8   934\n",
              "   4 │ 1984-04-01   48.224   47.822  103.3    103.7     53.8233      7.7   937\n",
              "   5 │ 1984-05-01   48.285   47.933  103.5    104.1     54.1104      7.4   940 ⋯\n",
              "   6 │ 2019-08-01  103.67   103.797  256.036  263.877  102.781       3.6  1511\n",
              "   7 │ 2019-09-01  103.733  103.873  256.43   264.388  102.46        3.5  1513\n",
              "   8 │ 2019-10-01  103.917  104.028  257.155  264.97   101.588       3.6  1514\n",
              "   9 │ 2019-11-01  104.024  104.092  257.879  265.548  102.149       3.6  1516 ⋯\n",
              "  10 │ 2019-12-01  104.307  104.322  258.63   266.02   101.942       3.6  1517\n",
              "\u001b[36m                                                               6 columns omitted\u001b[0m"
            ]
          },
          "metadata": {},
          "output_type": "display_data"
        }
      ],
      "source": [
        "sort!(DF, :date);\n",
        "DF.month = Date.(year.(DF.date),month.(DF.date),1);\n",
        "df_m = combine(groupby(DF, :month),\n",
        "    names(DF, Not([:date, :month])) .=> (x -> mean(filter(!isnan, skipmissing(x)))) .=> names(DF, Not([:date,:month]))\n",
        ");\n",
        "rename!(df_m,:month =>:date);\n",
        "start_date = Date(\"1984-01-01\")\n",
        "end_date   = Date(\"2019-12-01\")\n",
        "\n",
        "DF_F = df_m[(df_m.date .>= start_date) .& (df_m.date .<= end_date), :];\n",
        "DF_F[[1:5; end-4:end],:]"
      ]
    },
    {
      "cell_type": "code",
      "execution_count": 7,
      "metadata": {
        "colab": {
          "base_uri": "https://localhost:8080/",
          "height": 299
        },
        "id": "H74EUvgRd41s",
        "outputId": "79656fb7-963c-4162-cb9c-c6660d220818"
      },
      "outputs": [
        {
          "data": {
            "text/html": [
              "<div><div style = \"float: left;\"><span>10×13 DataFrame</span></div><div style = \"clear: both;\"></div></div><div class = \"data-frame\" style = \"overflow-x: scroll;\"><table class = \"data-frame\" style = \"margin-bottom: 6px;\"><thead><tr class = \"header\"><th class = \"rowNumber\" style = \"font-weight: bold; text-align: right;\">Row</th><th style = \"text-align: left;\">date</th><th style = \"text-align: left;\">pce</th><th style = \"text-align: left;\">pcecore</th><th style = \"text-align: left;\">cpi</th><th style = \"text-align: left;\">cpicore</th><th style = \"text-align: left;\">indpro</th><th style = \"text-align: left;\">unemp</th><th style = \"text-align: left;\">employ</th><th style = \"text-align: left;\">ffr</th><th style = \"text-align: left;\">year10</th><th style = \"text-align: left;\">corpbond</th><th style = \"text-align: left;\">vehicle</th><th style = \"text-align: left;\">oil</th></tr><tr class = \"subheader headerLastRow\"><th class = \"rowNumber\" style = \"font-weight: bold; text-align: right;\"></th><th title = \"Date\" style = \"text-align: left;\">Date</th><th title = \"Float64\" style = \"text-align: left;\">Float64</th><th title = \"Float64\" style = \"text-align: left;\">Float64</th><th title = \"Float64\" style = \"text-align: left;\">Float64</th><th title = \"Float64\" style = \"text-align: left;\">Float64</th><th title = \"Float64\" style = \"text-align: left;\">Float64</th><th title = \"Float64\" style = \"text-align: left;\">Float64</th><th title = \"Float64\" style = \"text-align: left;\">Float64</th><th title = \"Float64\" style = \"text-align: left;\">Float64</th><th title = \"Float64\" style = \"text-align: left;\">Float64</th><th title = \"Float64\" style = \"text-align: left;\">Float64</th><th title = \"Float64\" style = \"text-align: left;\">Float64</th><th title = \"Float64\" style = \"text-align: left;\">Float64</th></tr></thead><tbody><tr><td class = \"rowNumber\" style = \"font-weight: bold; text-align: right;\">1</td><td style = \"text-align: left;\">1984-01-01</td><td style = \"text-align: right;\">386.208</td><td style = \"text-align: right;\">385.272</td><td style = \"text-align: right;\">462.595</td><td style = \"text-align: right;\">462.986</td><td style = \"text-align: right;\">397.046</td><td style = \"text-align: right;\">8.0</td><td style = \"text-align: right;\">1143.68</td><td style = \"text-align: right;\">9.55839</td><td style = \"text-align: right;\">11.6743</td><td style = \"text-align: right;\">12.2</td><td style = \"text-align: right;\">14.21</td><td style = \"text-align: right;\">339.081</td></tr><tr><td class = \"rowNumber\" style = \"font-weight: bold; text-align: right;\">2</td><td style = \"text-align: left;\">1984-02-01</td><td style = \"text-align: right;\">386.878</td><td style = \"text-align: right;\">385.9</td><td style = \"text-align: right;\">463.084</td><td style = \"text-align: right;\">463.279</td><td style = \"text-align: right;\">397.497</td><td style = \"text-align: right;\">7.8</td><td style = \"text-align: right;\">1144.2</td><td style = \"text-align: right;\">9.58759</td><td style = \"text-align: right;\">11.8421</td><td style = \"text-align: right;\">12.0835</td><td style = \"text-align: right;\">14.381</td><td style = \"text-align: right;\">340.602</td></tr><tr><td class = \"rowNumber\" style = \"font-weight: bold; text-align: right;\">3</td><td style = \"text-align: left;\">1984-03-01</td><td style = \"text-align: right;\">387.205</td><td style = \"text-align: right;\">386.279</td><td style = \"text-align: right;\">463.376</td><td style = \"text-align: right;\">463.667</td><td style = \"text-align: right;\">397.973</td><td style = \"text-align: right;\">7.8</td><td style = \"text-align: right;\">1144.5</td><td style = \"text-align: right;\">9.91323</td><td style = \"text-align: right;\">12.3191</td><td style = \"text-align: right;\">12.5736</td><td style = \"text-align: right;\">14.21</td><td style = \"text-align: right;\">342.625</td></tr><tr><td class = \"rowNumber\" style = \"font-weight: bold; text-align: right;\">4</td><td style = \"text-align: left;\">1984-04-01</td><td style = \"text-align: right;\">387.586</td><td style = \"text-align: right;\">386.749</td><td style = \"text-align: right;\">463.764</td><td style = \"text-align: right;\">464.15</td><td style = \"text-align: right;\">398.571</td><td style = \"text-align: right;\">7.7</td><td style = \"text-align: right;\">1144.88</td><td style = \"text-align: right;\">10.291</td><td style = \"text-align: right;\">12.6335</td><td style = \"text-align: right;\">12.8085</td><td style = \"text-align: right;\">14.357</td><td style = \"text-align: right;\">342.159</td></tr><tr><td class = \"rowNumber\" style = \"font-weight: bold; text-align: right;\">5</td><td style = \"text-align: left;\">1984-05-01</td><td style = \"text-align: right;\">387.712</td><td style = \"text-align: right;\">386.98</td><td style = \"text-align: right;\">463.957</td><td style = \"text-align: right;\">464.535</td><td style = \"text-align: right;\">399.103</td><td style = \"text-align: right;\">7.4</td><td style = \"text-align: right;\">1145.21</td><td style = \"text-align: right;\">10.3194</td><td style = \"text-align: right;\">13.4086</td><td style = \"text-align: right;\">13.2827</td><td style = \"text-align: right;\">14.856</td><td style = \"text-align: right;\">341.838</td></tr><tr><td class = \"rowNumber\" style = \"font-weight: bold; text-align: right;\">6</td><td style = \"text-align: left;\">2019-08-01</td><td style = \"text-align: right;\">464.121</td><td style = \"text-align: right;\">464.244</td><td style = \"text-align: right;\">554.532</td><td style = \"text-align: right;\">557.548</td><td style = \"text-align: right;\">463.26</td><td style = \"text-align: right;\">3.6</td><td style = \"text-align: right;\">1192.62</td><td style = \"text-align: right;\">2.12581</td><td style = \"text-align: right;\">1.62636</td><td style = \"text-align: right;\">2.97727</td><td style = \"text-align: right;\">17.882</td><td style = \"text-align: right;\">400.387</td></tr><tr><td class = \"rowNumber\" style = \"font-weight: bold; text-align: right;\">7</td><td style = \"text-align: left;\">2019-09-01</td><td style = \"text-align: right;\">464.182</td><td style = \"text-align: right;\">464.317</td><td style = \"text-align: right;\">554.686</td><td style = \"text-align: right;\">557.742</td><td style = \"text-align: right;\">462.947</td><td style = \"text-align: right;\">3.5</td><td style = \"text-align: right;\">1192.74</td><td style = \"text-align: right;\">2.043</td><td style = \"text-align: right;\">1.6995</td><td style = \"text-align: right;\">3.032</td><td style = \"text-align: right;\">17.72</td><td style = \"text-align: right;\">404.217</td></tr><tr><td class = \"rowNumber\" style = \"font-weight: bold; text-align: right;\">8</td><td style = \"text-align: left;\">2019-10-01</td><td style = \"text-align: right;\">464.359</td><td style = \"text-align: right;\">464.466</td><td style = \"text-align: right;\">554.968</td><td style = \"text-align: right;\">557.962</td><td style = \"text-align: right;\">462.092</td><td style = \"text-align: right;\">3.6</td><td style = \"text-align: right;\">1192.81</td><td style = \"text-align: right;\">1.82968</td><td style = \"text-align: right;\">1.70682</td><td style = \"text-align: right;\">3.00818</td><td style = \"text-align: right;\">17.049</td><td style = \"text-align: right;\">398.824</td></tr><tr><td class = \"rowNumber\" style = \"font-weight: bold; text-align: right;\">9</td><td style = \"text-align: left;\">2019-11-01</td><td style = \"text-align: right;\">464.462</td><td style = \"text-align: right;\">464.528</td><td style = \"text-align: right;\">555.249</td><td style = \"text-align: right;\">558.18</td><td style = \"text-align: right;\">462.644</td><td style = \"text-align: right;\">3.6</td><td style = \"text-align: right;\">1192.94</td><td style = \"text-align: right;\">1.55333</td><td style = \"text-align: right;\">1.81211</td><td style = \"text-align: right;\">3.05737</td><td style = \"text-align: right;\">17.549</td><td style = \"text-align: right;\">404.358</td></tr><tr><td class = \"rowNumber\" style = \"font-weight: bold; text-align: right;\">10</td><td style = \"text-align: left;\">2019-12-01</td><td style = \"text-align: right;\">464.734</td><td style = \"text-align: right;\">464.748</td><td style = \"text-align: right;\">555.54</td><td style = \"text-align: right;\">558.357</td><td style = \"text-align: right;\">462.441</td><td style = \"text-align: right;\">3.6</td><td style = \"text-align: right;\">1193.03</td><td style = \"text-align: right;\">1.55097</td><td style = \"text-align: right;\">1.86286</td><td style = \"text-align: right;\">3.00714</td><td style = \"text-align: right;\">17.491</td><td style = \"text-align: right;\">409.234</td></tr></tbody></table></div>"
            ],
            "text/latex": [
              "\\begin{tabular}{r|cccccccccc}\n",
              "\t& date & pce & pcecore & cpi & cpicore & indpro & unemp & employ & ffr & \\\\\n",
              "\t\\hline\n",
              "\t& Date & Float64 & Float64 & Float64 & Float64 & Float64 & Float64 & Float64 & Float64 & \\\\\n",
              "\t\\hline\n",
              "\t1 & 1984-01-01 & 386.208 & 385.272 & 462.595 & 462.986 & 397.046 & 8.0 & 1143.68 & 9.55839 & $\\dots$ \\\\\n",
              "\t2 & 1984-02-01 & 386.878 & 385.9 & 463.084 & 463.279 & 397.497 & 7.8 & 1144.2 & 9.58759 & $\\dots$ \\\\\n",
              "\t3 & 1984-03-01 & 387.205 & 386.279 & 463.376 & 463.667 & 397.973 & 7.8 & 1144.5 & 9.91323 & $\\dots$ \\\\\n",
              "\t4 & 1984-04-01 & 387.586 & 386.749 & 463.764 & 464.15 & 398.571 & 7.7 & 1144.88 & 10.291 & $\\dots$ \\\\\n",
              "\t5 & 1984-05-01 & 387.712 & 386.98 & 463.957 & 464.535 & 399.103 & 7.4 & 1145.21 & 10.3194 & $\\dots$ \\\\\n",
              "\t6 & 2019-08-01 & 464.121 & 464.244 & 554.532 & 557.548 & 463.26 & 3.6 & 1192.62 & 2.12581 & $\\dots$ \\\\\n",
              "\t7 & 2019-09-01 & 464.182 & 464.317 & 554.686 & 557.742 & 462.947 & 3.5 & 1192.74 & 2.043 & $\\dots$ \\\\\n",
              "\t8 & 2019-10-01 & 464.359 & 464.466 & 554.968 & 557.962 & 462.092 & 3.6 & 1192.81 & 1.82968 & $\\dots$ \\\\\n",
              "\t9 & 2019-11-01 & 464.462 & 464.528 & 555.249 & 558.18 & 462.644 & 3.6 & 1192.94 & 1.55333 & $\\dots$ \\\\\n",
              "\t10 & 2019-12-01 & 464.734 & 464.748 & 555.54 & 558.357 & 462.441 & 3.6 & 1193.03 & 1.55097 & $\\dots$ \\\\\n",
              "\\end{tabular}\n"
            ],
            "text/plain": [
              "\u001b[1m10×13 DataFrame\u001b[0m\n",
              "\u001b[1m Row \u001b[0m│\u001b[1m date       \u001b[0m\u001b[1m pce     \u001b[0m\u001b[1m pcecore \u001b[0m\u001b[1m cpi     \u001b[0m\u001b[1m cpicore \u001b[0m\u001b[1m indpro  \u001b[0m\u001b[1m unemp   \u001b[0m\u001b[1m emplo\u001b[0m ⋯\n",
              "     │\u001b[90m Date       \u001b[0m\u001b[90m Float64 \u001b[0m\u001b[90m Float64 \u001b[0m\u001b[90m Float64 \u001b[0m\u001b[90m Float64 \u001b[0m\u001b[90m Float64 \u001b[0m\u001b[90m Float64 \u001b[0m\u001b[90m Float\u001b[0m ⋯\n",
              "─────┼──────────────────────────────────────────────────────────────────────────\n",
              "   1 │ 1984-01-01  386.208  385.272  462.595  462.986  397.046      8.0  1143. ⋯\n",
              "   2 │ 1984-02-01  386.878  385.9    463.084  463.279  397.497      7.8  1144.\n",
              "   3 │ 1984-03-01  387.205  386.279  463.376  463.667  397.973      7.8  1144.\n",
              "   4 │ 1984-04-01  387.586  386.749  463.764  464.15   398.571      7.7  1144.\n",
              "   5 │ 1984-05-01  387.712  386.98   463.957  464.535  399.103      7.4  1145. ⋯\n",
              "   6 │ 2019-08-01  464.121  464.244  554.532  557.548  463.26       3.6  1192.\n",
              "   7 │ 2019-09-01  464.182  464.317  554.686  557.742  462.947      3.5  1192.\n",
              "   8 │ 2019-10-01  464.359  464.466  554.968  557.962  462.092      3.6  1192.\n",
              "   9 │ 2019-11-01  464.462  464.528  555.249  558.18   462.644      3.6  1192. ⋯\n",
              "  10 │ 2019-12-01  464.734  464.748  555.54   558.357  462.441      3.6  1193.\n",
              "\u001b[36m                                                               6 columns omitted\u001b[0m"
            ]
          },
          "metadata": {},
          "output_type": "display_data"
        }
      ],
      "source": [
        "log_level = vec([1 2 3 4 5 7  12]);\n",
        "# names(DF_F,Not(:date))[log_level]\n",
        "transform!(DF_F, names(DF_F,Not(:date))[log_level] .=> ByRow(x -> log(x) * 100) .=> names(DF_F,Not(:date))[log_level] );\n",
        "DF_F[[1:5; end-4:end],:]"
      ]
    },
    {
      "cell_type": "code",
      "execution_count": 8,
      "metadata": {
        "colab": {
          "base_uri": "https://localhost:8080/",
          "height": 256
        },
        "id": "YWKeFHmvd49H",
        "outputId": "01d0ffe4-de0f-4393-d0dd-31ca518a633e"
      },
      "outputs": [
        {
          "data": {
            "text/html": [
              "<div><div style = \"float: left;\"><span>8×13 DataFrame</span></div><div style = \"clear: both;\"></div></div><div class = \"data-frame\" style = \"overflow-x: scroll;\"><table class = \"data-frame\" style = \"margin-bottom: 6px;\"><thead><tr class = \"header\"><th class = \"rowNumber\" style = \"font-weight: bold; text-align: right;\">Row</th><th style = \"text-align: left;\">date</th><th style = \"text-align: left;\">pce_mean</th><th style = \"text-align: left;\">pcecore_mean</th><th style = \"text-align: left;\">cpi_mean</th><th style = \"text-align: left;\">cpicore_mean</th><th style = \"text-align: left;\">indpro_mean</th><th style = \"text-align: left;\">unemp_mean</th><th style = \"text-align: left;\">employ_mean</th><th style = \"text-align: left;\">ffr_mean</th><th style = \"text-align: left;\">year10_mean</th><th style = \"text-align: left;\">corpbond_mean</th><th style = \"text-align: left;\">vehicle_mean</th><th style = \"text-align: left;\">oil_mean</th></tr><tr class = \"subheader headerLastRow\"><th class = \"rowNumber\" style = \"font-weight: bold; text-align: right;\"></th><th title = \"Date\" style = \"text-align: left;\">Date</th><th title = \"Float64\" style = \"text-align: left;\">Float64</th><th title = \"Float64\" style = \"text-align: left;\">Float64</th><th title = \"Float64\" style = \"text-align: left;\">Float64</th><th title = \"Float64\" style = \"text-align: left;\">Float64</th><th title = \"Float64\" style = \"text-align: left;\">Float64</th><th title = \"Float64\" style = \"text-align: left;\">Float64</th><th title = \"Float64\" style = \"text-align: left;\">Float64</th><th title = \"Float64\" style = \"text-align: left;\">Float64</th><th title = \"Float64\" style = \"text-align: left;\">Float64</th><th title = \"Float64\" style = \"text-align: left;\">Float64</th><th title = \"Float64\" style = \"text-align: left;\">Float64</th><th title = \"Float64\" style = \"text-align: left;\">Float64</th></tr></thead><tbody><tr><td class = \"rowNumber\" style = \"font-weight: bold; text-align: right;\">1</td><td style = \"text-align: left;\">1984-03-01</td><td style = \"text-align: right;\">386.764</td><td style = \"text-align: right;\">385.817</td><td style = \"text-align: right;\">463.018</td><td style = \"text-align: right;\">463.311</td><td style = \"text-align: right;\">397.505</td><td style = \"text-align: right;\">7.86667</td><td style = \"text-align: right;\">1144.13</td><td style = \"text-align: right;\">9.6864</td><td style = \"text-align: right;\">11.9452</td><td style = \"text-align: right;\">12.2857</td><td style = \"text-align: right;\">14.267</td><td style = \"text-align: right;\">340.769</td></tr><tr><td class = \"rowNumber\" style = \"font-weight: bold; text-align: right;\">2</td><td style = \"text-align: left;\">1984-06-01</td><td style = \"text-align: right;\">387.729</td><td style = \"text-align: right;\">386.982</td><td style = \"text-align: right;\">463.957</td><td style = \"text-align: right;\">464.535</td><td style = \"text-align: right;\">399.047</td><td style = \"text-align: right;\">7.43333</td><td style = \"text-align: right;\">1145.24</td><td style = \"text-align: right;\">10.5573</td><td style = \"text-align: right;\">13.2017</td><td style = \"text-align: right;\">13.2134</td><td style = \"text-align: right;\">14.6287</td><td style = \"text-align: right;\">341.336</td></tr><tr><td class = \"rowNumber\" style = \"font-weight: bold; text-align: right;\">3</td><td style = \"text-align: left;\">1984-09-01</td><td style = \"text-align: right;\">388.497</td><td style = \"text-align: right;\">387.916</td><td style = \"text-align: right;\">464.823</td><td style = \"text-align: right;\">465.776</td><td style = \"text-align: right;\">399.73</td><td style = \"text-align: right;\">7.43333</td><td style = \"text-align: right;\">1146.22</td><td style = \"text-align: right;\">11.3913</td><td style = \"text-align: right;\">12.867</td><td style = \"text-align: right;\">12.9896</td><td style = \"text-align: right;\">14.332</td><td style = \"text-align: right;\">337.085</td></tr><tr><td class = \"rowNumber\" style = \"font-weight: bold; text-align: right;\">4</td><td style = \"text-align: left;\">1984-12-01</td><td style = \"text-align: right;\">389.112</td><td style = \"text-align: right;\">388.625</td><td style = \"text-align: right;\">465.681</td><td style = \"text-align: right;\">466.783</td><td style = \"text-align: right;\">399.778</td><td style = \"text-align: right;\">7.3</td><td style = \"text-align: right;\">1147.11</td><td style = \"text-align: right;\">9.26425</td><td style = \"text-align: right;\">11.7442</td><td style = \"text-align: right;\">12.3506</td><td style = \"text-align: right;\">14.6727</td><td style = \"text-align: right;\">331.025</td></tr><tr><td class = \"rowNumber\" style = \"font-weight: bold; text-align: right;\">5</td><td style = \"text-align: left;\">2019-03-01</td><td style = \"text-align: right;\">463.328</td><td style = \"text-align: right;\">463.438</td><td style = \"text-align: right;\">553.491</td><td style = \"text-align: right;\">556.518</td><td style = \"text-align: right;\">463.479</td><td style = \"text-align: right;\">3.86667</td><td style = \"text-align: right;\">1191.93</td><td style = \"text-align: right;\">2.40172</td><td style = \"text-align: right;\">2.65369</td><td style = \"text-align: right;\">3.83095</td><td style = \"text-align: right;\">17.258</td><td style = \"text-align: right;\">400.29</td></tr><tr><td class = \"rowNumber\" style = \"font-weight: bold; text-align: right;\">6</td><td style = \"text-align: left;\">2019-06-01</td><td style = \"text-align: right;\">463.886</td><td style = \"text-align: right;\">463.859</td><td style = \"text-align: right;\">554.223</td><td style = \"text-align: right;\">556.956</td><td style = \"text-align: right;\">462.9</td><td style = \"text-align: right;\">3.63333</td><td style = \"text-align: right;\">1192.29</td><td style = \"text-align: right;\">2.39743</td><td style = \"text-align: right;\">2.33379</td><td style = \"text-align: right;\">3.59662</td><td style = \"text-align: right;\">17.572</td><td style = \"text-align: right;\">408.864</td></tr><tr><td class = \"rowNumber\" style = \"font-weight: bold; text-align: right;\">7</td><td style = \"text-align: left;\">2019-09-01</td><td style = \"text-align: right;\">464.126</td><td style = \"text-align: right;\">464.23</td><td style = \"text-align: right;\">554.553</td><td style = \"text-align: right;\">557.537</td><td style = \"text-align: right;\">462.904</td><td style = \"text-align: right;\">3.6</td><td style = \"text-align: right;\">1192.61</td><td style = \"text-align: right;\">2.19057</td><td style = \"text-align: right;\">1.79498</td><td style = \"text-align: right;\">3.10082</td><td style = \"text-align: right;\">17.7613</td><td style = \"text-align: right;\">403.174</td></tr><tr><td class = \"rowNumber\" style = \"font-weight: bold; text-align: right;\">8</td><td style = \"text-align: left;\">2019-12-01</td><td style = \"text-align: right;\">464.518</td><td style = \"text-align: right;\">464.581</td><td style = \"text-align: right;\">555.252</td><td style = \"text-align: right;\">558.166</td><td style = \"text-align: right;\">462.392</td><td style = \"text-align: right;\">3.6</td><td style = \"text-align: right;\">1192.93</td><td style = \"text-align: right;\">1.64466</td><td style = \"text-align: right;\">1.79393</td><td style = \"text-align: right;\">3.02423</td><td style = \"text-align: right;\">17.363</td><td style = \"text-align: right;\">404.139</td></tr></tbody></table></div>"
            ],
            "text/latex": [
              "\\begin{tabular}{r|cccccccc}\n",
              "\t& date & pce\\_mean & pcecore\\_mean & cpi\\_mean & cpicore\\_mean & indpro\\_mean & unemp\\_mean & \\\\\n",
              "\t\\hline\n",
              "\t& Date & Float64 & Float64 & Float64 & Float64 & Float64 & Float64 & \\\\\n",
              "\t\\hline\n",
              "\t1 & 1984-03-01 & 386.764 & 385.817 & 463.018 & 463.311 & 397.505 & 7.86667 & $\\dots$ \\\\\n",
              "\t2 & 1984-06-01 & 387.729 & 386.982 & 463.957 & 464.535 & 399.047 & 7.43333 & $\\dots$ \\\\\n",
              "\t3 & 1984-09-01 & 388.497 & 387.916 & 464.823 & 465.776 & 399.73 & 7.43333 & $\\dots$ \\\\\n",
              "\t4 & 1984-12-01 & 389.112 & 388.625 & 465.681 & 466.783 & 399.778 & 7.3 & $\\dots$ \\\\\n",
              "\t5 & 2019-03-01 & 463.328 & 463.438 & 553.491 & 556.518 & 463.479 & 3.86667 & $\\dots$ \\\\\n",
              "\t6 & 2019-06-01 & 463.886 & 463.859 & 554.223 & 556.956 & 462.9 & 3.63333 & $\\dots$ \\\\\n",
              "\t7 & 2019-09-01 & 464.126 & 464.23 & 554.553 & 557.537 & 462.904 & 3.6 & $\\dots$ \\\\\n",
              "\t8 & 2019-12-01 & 464.518 & 464.581 & 555.252 & 558.166 & 462.392 & 3.6 & $\\dots$ \\\\\n",
              "\\end{tabular}\n"
            ],
            "text/plain": [
              "\u001b[1m8×13 DataFrame\u001b[0m\n",
              "\u001b[1m Row \u001b[0m│\u001b[1m date       \u001b[0m\u001b[1m pce_mean \u001b[0m\u001b[1m pcecore_mean \u001b[0m\u001b[1m cpi_mean \u001b[0m\u001b[1m cpicore_mean \u001b[0m\u001b[1m indpro_mean\u001b[0m ⋯\n",
              "     │\u001b[90m Date       \u001b[0m\u001b[90m Float64  \u001b[0m\u001b[90m Float64      \u001b[0m\u001b[90m Float64  \u001b[0m\u001b[90m Float64      \u001b[0m\u001b[90m Float64    \u001b[0m ⋯\n",
              "─────┼──────────────────────────────────────────────────────────────────────────\n",
              "   1 │ 1984-03-01   386.764       385.817   463.018       463.311      397.505 ⋯\n",
              "   2 │ 1984-06-01   387.729       386.982   463.957       464.535      399.047\n",
              "   3 │ 1984-09-01   388.497       387.916   464.823       465.776      399.73\n",
              "   4 │ 1984-12-01   389.112       388.625   465.681       466.783      399.778\n",
              "   5 │ 2019-03-01   463.328       463.438   553.491       556.518      463.479 ⋯\n",
              "   6 │ 2019-06-01   463.886       463.859   554.223       556.956      462.9\n",
              "   7 │ 2019-09-01   464.126       464.23    554.553       557.537      462.904\n",
              "   8 │ 2019-12-01   464.518       464.581   555.252       558.166      462.392\n",
              "\u001b[36m                                                               7 columns omitted\u001b[0m"
            ]
          },
          "metadata": {},
          "output_type": "display_data"
        }
      ],
      "source": [
        "DF_Q =copy(DF_F);\n",
        "DF_Q.quarter = Date.(year.(DF_F.date),quarterofyear.(Date.(DF_F.date)).*3 ,1); # 분기 말월 1일 기준\n",
        "DF_Q = combine(groupby(DF_Q, :quarter),names(DF_Q, Not([:date, :quarter])) .=> mean)\n",
        "rename!(DF_Q, :quarter => :date);\n",
        "DF_Q[[1:4;end-3:end],:]"
      ]
    },
    {
      "cell_type": "markdown",
      "metadata": {
        "id": "mwOVJLFle5Kc"
      },
      "source": [
        "Estimate a Bayesian VAR"
      ]
    },
    {
      "cell_type": "code",
      "execution_count": 9,
      "metadata": {
        "colab": {
          "base_uri": "https://localhost:8080/"
        },
        "id": "QP2RWIDZ825A",
        "outputId": "54647d25-cad2-4dd1-be3d-3d582fb98735"
      },
      "outputs": [
        {
          "data": {
            "text/plain": [
              "(432, 12)"
            ]
          },
          "metadata": {},
          "output_type": "display_data"
        }
      ],
      "source": [
        "# When all Latent variables were observable\n",
        "Y = Matrix(DF_F[:,Not(([:date]))]);\n",
        "p=6; # Number of lags\n",
        "T,k = size(Y)"
      ]
    },
    {
      "cell_type": "code",
      "execution_count": 10,
      "metadata": {
        "id": "ZIPMQSu3MQhs"
      },
      "outputs": [],
      "source": [
        "function prior_init(Y::Matrix{Float64},p::Int,log_level::Vector{Int},lambda1::Float64=0.09, lambda2::Float64=4.3,lambda3::Int=1,lambda4::Float64=2.7,lambda5::Float64=4.3,includeconstant::Bool=true)\n",
        "# Initialize prior(Minnesota prior, initial values were optimal values from Song&Schorfheide 2015) \n",
        "  T,k = size(Y);\n",
        "  # prior for Innovation Covariance matrix Σ\n",
        "  S0 = zeros(k,k);\n",
        "  # Estimate standard errors of AR(1) for each variable\n",
        "  for i=1:k\n",
        "    y = Y[:,i];\n",
        "    epsilon = y[2:end]-hcat(ones(T-1,1), y[1:end-1])*(hcat(ones(T-1,1), y[1:end-1])\\y[2:end]);\n",
        "    S0[i,i] = epsilon'epsilon/T;\n",
        "  end\n",
        "\n",
        "  # prior for coefficients Aⱼs\n",
        "  B0 = zeros(k,k*p);\n",
        "  for xx=1:k\n",
        "    if any(xx .== log_level)\n",
        "      B0[xx,xx] = 1; # For nonstationary variables\n",
        "    else\n",
        "      B0[xx,xx] = 0.5; # For stationary variables\n",
        "    end\n",
        "  end\n",
        "  if includeconstant;\n",
        "    B0 = hcat(B0,zeros(k,1)); # Add constant term\n",
        "  end\n",
        "  \n",
        "  Omega = ones(1,k*p+1);\n",
        "  Omega[end] =1e+6;\n",
        "  Omega[1:end-1] = lambda1^2 *(kron([j^-2lambda2 for j=1:p], diag(S0)));\n",
        "  Omega = Diagonal(Omega[1:end]);\n",
        "  V0 = kron(S0,Omega)\n",
        "  return B0, V0, S0, Omega, MN_hyper(lambda1,lambda2,lambda3,lambda4,lambda5)\n",
        "end\n",
        "\n",
        "struct MN_hyper # Store Hyperparameters of Minnesota prior(notations based on Song&Schorfheide 2015)\n",
        "  lambda1::Float64       # overall tightness\n",
        "  lambda2::Float64       # the rate at which the prior variance on higher-order lag coefficients decays\n",
        "  lambda3::Int    # Dispersion of the prior on the innovation covariance matrix\n",
        "  lambda4::Float64    # Sum of coefficient prior\n",
        "  lambda5::Float64    # the extent to which co-persistence restrictions are imposed on the VAR coefficients\n",
        "  \n",
        "end"
      ]
    },
    {
      "cell_type": "code",
      "execution_count": 11,
      "metadata": {},
      "outputs": [],
      "source": [
        "B0, V0, S0, Omega, hyperparameters = prior_init(Y, p, log_level, 0.09, 4.3, 1, 2.7, 4.3, true);"
      ]
    },
    {
      "cell_type": "code",
      "execution_count": 12,
      "metadata": {
        "colab": {
          "base_uri": "https://localhost:8080/"
        },
        "id": "T5cnKiCPh8LM",
        "outputId": "3acadfa0-c02d-4bbc-9901-71ce76121997"
      },
      "outputs": [
        {
          "data": {
            "text/plain": [
              "make_dummy_observations (generic function with 1 method)"
            ]
          },
          "metadata": {},
          "output_type": "display_data"
        }
      ],
      "source": [
        "function gibbs_bvar(Y::Matrix, p::Int, B0,V0,S0, hyperparameters::MN_hyper, n_draws::Int = 2000, burnin::Int = 1000)\n",
        "    T, k = size(Y)\n",
        "    T0 = 2*p; # pre-sample size\n",
        "    Tnobs = T - T0;\n",
        "    Y_dummy, X_dummy = make_dummy_observations(hyperparameters::MN_hyper,  Y::Matrix{Float64}, p::Int, T0::Int)\n",
        "    X, Y_target = make_lag_matrix(Y, p)\n",
        "    # premom = vcat(mean(Y[1:p,:],dims=1),std(Y[1:p,:],dims=1));\n",
        "    # # Y_dummy, X_dummy = make_dummy_observations(k,p,hyperparameters,premom,1)\n",
        "    # make_dummy_observations(hyperparameters,  Y, p)\n",
        "    Td = size(Y_dummy, 1);\n",
        "    X_f = vcat(X_dummy,X[T0+1-p:end,:]);\n",
        "    Y_f = vcat(Y_dummy, Y_target[T0+1-p:end,:]);\n",
        "\n",
        "    V0_inv = inv(V0)\n",
        "    #B_samples = zeros(burnin+n_draws, k, k*p+1)  # n_draws × k × (k*p+1)\n",
        "    #Σ_samples = zeros(burnin+n_draws, k, k)  # n_draws × k × k\n",
        "    B_samples = Array{Float64}(undef, n_draws-burnin, k, k*p+1)  # 3D array\n",
        "    Σ_samples = Array{Float64}(undef, n_draws-burnin, k, k)  # 3D array\n",
        "\n",
        "    # 초기값\n",
        "    B_draw = reshape(vec(X_f\\Y_f) , k*p+1,k)'\n",
        "    B_draw_init = transpose(X_f\\Y_f);\n",
        "    XtX_inv = cholesky(X_f'*X_f) \\ I;  # safer than inv()\n",
        "    U_X = cholesky(Symmetric(XtX_inv)).U     \n",
        "for s in 1:n_draws\n",
        "    # Posterior of Σ | B\n",
        "    E = Y_f - X_f * B_draw';\n",
        "    Σ_post = Wishart(T+Td-k-1-(T0-p),E'E); # Posterior of Σ | Y;\n",
        "    Σ_draw = inv(rand(Σ_post));\n",
        "    # posterior of B | Σ \n",
        "    # B_V =  Matrix(Symmetric(kron(Σ_draw,XtX_inv)));\n",
        "    # B_draw = reshape(vec(X_f\\Y_f) + cholesky(B_V).U *randn(prod(size(B0))), k,k*p+1);        \n",
        "    B_draw = B_draw_init + cholesky(Matrix(Symmetric(Σ_draw))).L *randn((size(B0))) *U_X; # A Secret Sauce for Super-fast computation, by ChatGPT\n",
        "    # Save results\n",
        "#    B_samples[s,:,:] = reshape(B_draw',1,k,k*p+1);\n",
        "    #Σ_samples[s,:,:] = reshape(Σ_draw,1,k,k);\n",
        "    if s>burnin\n",
        "    @views B_samples[s-burnin, :, :] .= B_draw;\n",
        "    @views Σ_samples[s-burnin, :, :] .= Σ_draw;\n",
        "    end\n",
        " if mod(s,5000) == 0\n",
        "        println(\"Iteration: \", s)\n",
        "    end\n",
        "  \n",
        "end\n",
        "    return B_samples, Σ_samples;\n",
        "end\n",
        "\n",
        "function make_lag_matrix(Y::Matrix, p::Int)\n",
        "    T, n = size(Y)\n",
        "    X = hcat([Y[p - i + 1:end - i, :] for i in 1:p]...)  # concaternating lag matrices\n",
        "    X = hcat(X, ones(T - p))  # 상수항\n",
        "    Y_target = Y[p+1:end, :]\n",
        "    return X, Y_target\n",
        "end\n",
        "#FYI...\n",
        "#@time transpose(X_f\\Y_f) + cholesky(Matrix(Symmetric(Σ_draw))).L *randn((size(B0))) *cholesky(Matrix(Symmetric((XtX_inv)))).U; # 4.8ms / draw\n",
        "#@time reshape(vec(X_f\\Y_f) + cholesky(B_V).U *randn(prod(size(B0))), k,k*p+1);        # 12.8ms/draw \n",
        "# @time rand(MvNormal(vec(X_f\\Y_f), B_V))  # 13.0 ms/draw\n",
        "\n",
        "function make_dummy_observations(hyperparameters::MN_hyper,  Y::Matrix{Float64}, p::Int, T0::Int)\n",
        "    λ1, λ2, λ3, λ4, λ5 = hyperparameters.lambda1, hyperparameters.lambda2, hyperparameters.lambda3, hyperparameters.lambda4, hyperparameters.lambda5;\n",
        "    T,k = size(Y)\n",
        "    T0 = 2*p; # pre-sample size\n",
        "    x_ = mean(Y[1:T0,:],dims=1); # pre-sample mean\n",
        "    s_ = std(Y[1:T0,:],dims=1); # pre-sample standard deviation\n",
        "\n",
        "    dsize = 1 + k*(p+λ3+1);\n",
        "    breakss = Vector{Int}(undef,5); # zeros(5,1);\n",
        "    ydu = zeros(dsize,k);\n",
        "    xdu = zeros(dsize,k*p+1);\n",
        "    # Dummies for the coefficients of the first lag\n",
        "    sig = s_.*Matrix(I,k,k);;\n",
        "    ydu[1:k,:] = λ1 * sig;\n",
        "    xdu[1:k,:] = hcat( λ1*sig, zeros(k,(p-1)*k+1) );\n",
        "    breakss[1] = k;\n",
        "    # Dummies for the coefficients of the remaining lags\n",
        "    if p>1;\n",
        "       ydu[k+1:k*p,:] = zeros((p-1)*k,k);\n",
        "       j = 1;\n",
        "       while j <=p-1\n",
        "        xdu[k+1+(j-1)*k:k+j*k,:] = [zeros(k,j*k) λ1*sig*((j+1)^λ2) zeros(k,(p-1-j)*k+1)];\n",
        "        j = j+1;\n",
        "       end\n",
        "       breakss[2] = k + (p-1)*k;\n",
        "    else\n",
        "        breakss[2] = breakss[1];\n",
        "    end\n",
        "   # Dummies for the covariance matrix of error terms\n",
        "    ydu[breakss[2]+1:breakss[2]+λ3*k,:] = kron(ones(λ3,1),sig);\n",
        "   breakss[3] = breakss[2]+λ3*k;\n",
        "\n",
        "    # dummies for the coefficents of the constant term\n",
        "    lammean = λ4*x_;\n",
        "    ydu[breakss[3]+1,:] = lammean;\n",
        "    xdu[breakss[3]+1,:] = [kron(ones(1,p),lammean) λ4];\n",
        "    breakss[4] = breakss[3]+1;\n",
        "\n",
        "    # dummies for the covariance matrix of coefficients of different lags\n",
        "     mumean = λ5* x_.*Matrix(I,k,k);\n",
        "     ydu[breakss[4]+1:breakss[4]+k,:] = Matrix(mumean);\n",
        "     xdu[breakss[4]+1:breakss[4]+k,:] = [kron(ones(1,p),mumean) zeros(k,1)];\n",
        "     breakss[5] = breakss[4]+k;\n",
        "\n",
        "    return ydu, xdu;\n",
        "end\n"
      ]
    },
    {
      "cell_type": "code",
      "execution_count": 13,
      "metadata": {
        "colab": {
          "base_uri": "https://localhost:8080/",
          "height": 126
        },
        "id": "OOITAyTchV-u",
        "outputId": "ec8dd3e9-8679-480f-d2cd-4522eb9e0af8"
      },
      "outputs": [
        {
          "name": "stdout",
          "output_type": "stream",
          "text": [
            "Iteration: 5000\n",
            "Iteration: 10000\n",
            "Iteration: 15000\n",
            "Iteration: 20000\n",
            "Iteration: 25000\n",
            "Iteration: 30000\n",
            "Iteration: 35000\n",
            "Iteration: 40000\n",
            "Iteration: 45000\n",
            "Iteration: 50000\n",
            "Iteration: 55000\n",
            " 12.675197 seconds (10.53 M allocations: 8.425 GiB, 9.31% gc time, 32.01% compilation time)\n"
          ]
        }
      ],
      "source": [
        "@time B_post, sig_post = gibbs_bvar(Y, p, B0,V0,S0, hyperparameters, 55000, 5000);"
      ]
    },
    {
      "cell_type": "code",
      "execution_count": 14,
      "metadata": {},
      "outputs": [
        {
          "data": {
            "text/html": [
              "<div><div style = \"float: left;\"><span>12×13 DataFrame</span></div><div style = \"clear: both;\"></div></div><div class = \"data-frame\" style = \"overflow-x: scroll;\"><table class = \"data-frame\" style = \"margin-bottom: 6px;\"><thead><tr class = \"header\"><th class = \"rowNumber\" style = \"font-weight: bold; text-align: right;\">Row</th><th style = \"text-align: left;\">date</th><th style = \"text-align: left;\">pce_mean</th><th style = \"text-align: left;\">pcecore_mean</th><th style = \"text-align: left;\">cpi</th><th style = \"text-align: left;\">cpicore</th><th style = \"text-align: left;\">indpro</th><th style = \"text-align: left;\">unemp</th><th style = \"text-align: left;\">employ</th><th style = \"text-align: left;\">ffr</th><th style = \"text-align: left;\">year10</th><th style = \"text-align: left;\">corpbond</th><th style = \"text-align: left;\">vehicle</th><th style = \"text-align: left;\">oil</th></tr><tr class = \"subheader headerLastRow\"><th class = \"rowNumber\" style = \"font-weight: bold; text-align: right;\"></th><th title = \"Date\" style = \"text-align: left;\">Date</th><th title = \"Union{Missing, Float64}\" style = \"text-align: left;\">Float64?</th><th title = \"Union{Missing, Float64}\" style = \"text-align: left;\">Float64?</th><th title = \"Union{Missing, Float64}\" style = \"text-align: left;\">Float64?</th><th title = \"Union{Missing, Float64}\" style = \"text-align: left;\">Float64?</th><th title = \"Union{Missing, Float64}\" style = \"text-align: left;\">Float64?</th><th title = \"Union{Missing, Float64}\" style = \"text-align: left;\">Float64?</th><th title = \"Union{Missing, Float64}\" style = \"text-align: left;\">Float64?</th><th title = \"Union{Missing, Float64}\" style = \"text-align: left;\">Float64?</th><th title = \"Union{Missing, Float64}\" style = \"text-align: left;\">Float64?</th><th title = \"Union{Missing, Float64}\" style = \"text-align: left;\">Float64?</th><th title = \"Union{Missing, Float64}\" style = \"text-align: left;\">Float64?</th><th title = \"Union{Missing, Float64}\" style = \"text-align: left;\">Float64?</th></tr></thead><tbody><tr><td class = \"rowNumber\" style = \"font-weight: bold; text-align: right;\">1</td><td style = \"text-align: left;\">1984-01-01</td><td style = \"font-style: italic; text-align: right;\">missing</td><td style = \"font-style: italic; text-align: right;\">missing</td><td style = \"text-align: right;\">462.595</td><td style = \"text-align: right;\">462.986</td><td style = \"text-align: right;\">397.046</td><td style = \"text-align: right;\">8.0</td><td style = \"text-align: right;\">1143.68</td><td style = \"text-align: right;\">9.55839</td><td style = \"text-align: right;\">11.6743</td><td style = \"text-align: right;\">12.2</td><td style = \"text-align: right;\">14.21</td><td style = \"text-align: right;\">339.081</td></tr><tr><td class = \"rowNumber\" style = \"font-weight: bold; text-align: right;\">2</td><td style = \"text-align: left;\">1984-02-01</td><td style = \"font-style: italic; text-align: right;\">missing</td><td style = \"font-style: italic; text-align: right;\">missing</td><td style = \"text-align: right;\">463.084</td><td style = \"text-align: right;\">463.279</td><td style = \"text-align: right;\">397.497</td><td style = \"text-align: right;\">7.8</td><td style = \"text-align: right;\">1144.2</td><td style = \"text-align: right;\">9.58759</td><td style = \"text-align: right;\">11.8421</td><td style = \"text-align: right;\">12.0835</td><td style = \"text-align: right;\">14.381</td><td style = \"text-align: right;\">340.602</td></tr><tr><td class = \"rowNumber\" style = \"font-weight: bold; text-align: right;\">3</td><td style = \"text-align: left;\">1984-03-01</td><td style = \"text-align: right;\">386.764</td><td style = \"text-align: right;\">385.817</td><td style = \"text-align: right;\">463.376</td><td style = \"text-align: right;\">463.667</td><td style = \"text-align: right;\">397.973</td><td style = \"text-align: right;\">7.8</td><td style = \"text-align: right;\">1144.5</td><td style = \"text-align: right;\">9.91323</td><td style = \"text-align: right;\">12.3191</td><td style = \"text-align: right;\">12.5736</td><td style = \"text-align: right;\">14.21</td><td style = \"text-align: right;\">342.625</td></tr><tr><td class = \"rowNumber\" style = \"font-weight: bold; text-align: right;\">4</td><td style = \"text-align: left;\">1984-04-01</td><td style = \"font-style: italic; text-align: right;\">missing</td><td style = \"font-style: italic; text-align: right;\">missing</td><td style = \"text-align: right;\">463.764</td><td style = \"text-align: right;\">464.15</td><td style = \"text-align: right;\">398.571</td><td style = \"text-align: right;\">7.7</td><td style = \"text-align: right;\">1144.88</td><td style = \"text-align: right;\">10.291</td><td style = \"text-align: right;\">12.6335</td><td style = \"text-align: right;\">12.8085</td><td style = \"text-align: right;\">14.357</td><td style = \"text-align: right;\">342.159</td></tr><tr><td class = \"rowNumber\" style = \"font-weight: bold; text-align: right;\">5</td><td style = \"text-align: left;\">1984-05-01</td><td style = \"font-style: italic; text-align: right;\">missing</td><td style = \"font-style: italic; text-align: right;\">missing</td><td style = \"text-align: right;\">463.957</td><td style = \"text-align: right;\">464.535</td><td style = \"text-align: right;\">399.103</td><td style = \"text-align: right;\">7.4</td><td style = \"text-align: right;\">1145.21</td><td style = \"text-align: right;\">10.3194</td><td style = \"text-align: right;\">13.4086</td><td style = \"text-align: right;\">13.2827</td><td style = \"text-align: right;\">14.856</td><td style = \"text-align: right;\">341.838</td></tr><tr><td class = \"rowNumber\" style = \"font-weight: bold; text-align: right;\">6</td><td style = \"text-align: left;\">1984-06-01</td><td style = \"text-align: right;\">387.729</td><td style = \"text-align: right;\">386.982</td><td style = \"text-align: right;\">464.15</td><td style = \"text-align: right;\">464.919</td><td style = \"text-align: right;\">399.466</td><td style = \"text-align: right;\">7.2</td><td style = \"text-align: right;\">1145.61</td><td style = \"text-align: right;\">11.0617</td><td style = \"text-align: right;\">13.5629</td><td style = \"text-align: right;\">13.549</td><td style = \"text-align: right;\">14.673</td><td style = \"text-align: right;\">340.01</td></tr><tr><td class = \"rowNumber\" style = \"font-weight: bold; text-align: right;\">7</td><td style = \"text-align: left;\">2019-07-01</td><td style = \"font-style: italic; text-align: right;\">missing</td><td style = \"font-style: italic; text-align: right;\">missing</td><td style = \"text-align: right;\">554.44</td><td style = \"text-align: right;\">557.322</td><td style = \"text-align: right;\">462.503</td><td style = \"text-align: right;\">3.7</td><td style = \"text-align: right;\">1192.46</td><td style = \"text-align: right;\">2.4029</td><td style = \"text-align: right;\">2.05909</td><td style = \"text-align: right;\">3.29318</td><td style = \"text-align: right;\">17.682</td><td style = \"text-align: right;\">404.917</td></tr><tr><td class = \"rowNumber\" style = \"font-weight: bold; text-align: right;\">8</td><td style = \"text-align: left;\">2019-08-01</td><td style = \"font-style: italic; text-align: right;\">missing</td><td style = \"font-style: italic; text-align: right;\">missing</td><td style = \"text-align: right;\">554.532</td><td style = \"text-align: right;\">557.548</td><td style = \"text-align: right;\">463.26</td><td style = \"text-align: right;\">3.6</td><td style = \"text-align: right;\">1192.62</td><td style = \"text-align: right;\">2.12581</td><td style = \"text-align: right;\">1.62636</td><td style = \"text-align: right;\">2.97727</td><td style = \"text-align: right;\">17.882</td><td style = \"text-align: right;\">400.387</td></tr><tr><td class = \"rowNumber\" style = \"font-weight: bold; text-align: right;\">9</td><td style = \"text-align: left;\">2019-09-01</td><td style = \"text-align: right;\">464.126</td><td style = \"text-align: right;\">464.23</td><td style = \"text-align: right;\">554.686</td><td style = \"text-align: right;\">557.742</td><td style = \"text-align: right;\">462.947</td><td style = \"text-align: right;\">3.5</td><td style = \"text-align: right;\">1192.74</td><td style = \"text-align: right;\">2.043</td><td style = \"text-align: right;\">1.6995</td><td style = \"text-align: right;\">3.032</td><td style = \"text-align: right;\">17.72</td><td style = \"text-align: right;\">404.217</td></tr><tr><td class = \"rowNumber\" style = \"font-weight: bold; text-align: right;\">10</td><td style = \"text-align: left;\">2019-10-01</td><td style = \"font-style: italic; text-align: right;\">missing</td><td style = \"font-style: italic; text-align: right;\">missing</td><td style = \"text-align: right;\">554.968</td><td style = \"text-align: right;\">557.962</td><td style = \"text-align: right;\">462.092</td><td style = \"text-align: right;\">3.6</td><td style = \"text-align: right;\">1192.81</td><td style = \"text-align: right;\">1.82968</td><td style = \"text-align: right;\">1.70682</td><td style = \"text-align: right;\">3.00818</td><td style = \"text-align: right;\">17.049</td><td style = \"text-align: right;\">398.824</td></tr><tr><td class = \"rowNumber\" style = \"font-weight: bold; text-align: right;\">11</td><td style = \"text-align: left;\">2019-11-01</td><td style = \"font-style: italic; text-align: right;\">missing</td><td style = \"font-style: italic; text-align: right;\">missing</td><td style = \"text-align: right;\">555.249</td><td style = \"text-align: right;\">558.18</td><td style = \"text-align: right;\">462.644</td><td style = \"text-align: right;\">3.6</td><td style = \"text-align: right;\">1192.94</td><td style = \"text-align: right;\">1.55333</td><td style = \"text-align: right;\">1.81211</td><td style = \"text-align: right;\">3.05737</td><td style = \"text-align: right;\">17.549</td><td style = \"text-align: right;\">404.358</td></tr><tr><td class = \"rowNumber\" style = \"font-weight: bold; text-align: right;\">12</td><td style = \"text-align: left;\">2019-12-01</td><td style = \"text-align: right;\">464.518</td><td style = \"text-align: right;\">464.581</td><td style = \"text-align: right;\">555.54</td><td style = \"text-align: right;\">558.357</td><td style = \"text-align: right;\">462.441</td><td style = \"text-align: right;\">3.6</td><td style = \"text-align: right;\">1193.03</td><td style = \"text-align: right;\">1.55097</td><td style = \"text-align: right;\">1.86286</td><td style = \"text-align: right;\">3.00714</td><td style = \"text-align: right;\">17.491</td><td style = \"text-align: right;\">409.234</td></tr></tbody></table></div>"
            ],
            "text/latex": [
              "\\begin{tabular}{r|ccccccccc}\n",
              "\t& date & pce\\_mean & pcecore\\_mean & cpi & cpicore & indpro & unemp & employ & \\\\\n",
              "\t\\hline\n",
              "\t& Date & Float64? & Float64? & Float64? & Float64? & Float64? & Float64? & Float64? & \\\\\n",
              "\t\\hline\n",
              "\t1 & 1984-01-01 & \\emph{missing} & \\emph{missing} & 462.595 & 462.986 & 397.046 & 8.0 & 1143.68 & $\\dots$ \\\\\n",
              "\t2 & 1984-02-01 & \\emph{missing} & \\emph{missing} & 463.084 & 463.279 & 397.497 & 7.8 & 1144.2 & $\\dots$ \\\\\n",
              "\t3 & 1984-03-01 & 386.764 & 385.817 & 463.376 & 463.667 & 397.973 & 7.8 & 1144.5 & $\\dots$ \\\\\n",
              "\t4 & 1984-04-01 & \\emph{missing} & \\emph{missing} & 463.764 & 464.15 & 398.571 & 7.7 & 1144.88 & $\\dots$ \\\\\n",
              "\t5 & 1984-05-01 & \\emph{missing} & \\emph{missing} & 463.957 & 464.535 & 399.103 & 7.4 & 1145.21 & $\\dots$ \\\\\n",
              "\t6 & 1984-06-01 & 387.729 & 386.982 & 464.15 & 464.919 & 399.466 & 7.2 & 1145.61 & $\\dots$ \\\\\n",
              "\t7 & 2019-07-01 & \\emph{missing} & \\emph{missing} & 554.44 & 557.322 & 462.503 & 3.7 & 1192.46 & $\\dots$ \\\\\n",
              "\t8 & 2019-08-01 & \\emph{missing} & \\emph{missing} & 554.532 & 557.548 & 463.26 & 3.6 & 1192.62 & $\\dots$ \\\\\n",
              "\t9 & 2019-09-01 & 464.126 & 464.23 & 554.686 & 557.742 & 462.947 & 3.5 & 1192.74 & $\\dots$ \\\\\n",
              "\t10 & 2019-10-01 & \\emph{missing} & \\emph{missing} & 554.968 & 557.962 & 462.092 & 3.6 & 1192.81 & $\\dots$ \\\\\n",
              "\t11 & 2019-11-01 & \\emph{missing} & \\emph{missing} & 555.249 & 558.18 & 462.644 & 3.6 & 1192.94 & $\\dots$ \\\\\n",
              "\t12 & 2019-12-01 & 464.518 & 464.581 & 555.54 & 558.357 & 462.441 & 3.6 & 1193.03 & $\\dots$ \\\\\n",
              "\\end{tabular}\n"
            ],
            "text/plain": [
              "\u001b[1m12×13 DataFrame\u001b[0m\n",
              "\u001b[1m Row \u001b[0m│\u001b[1m date       \u001b[0m\u001b[1m pce_mean    \u001b[0m\u001b[1m pcecore_mean \u001b[0m\u001b[1m cpi      \u001b[0m\u001b[1m cpicore  \u001b[0m\u001b[1m indpro   \u001b[0m\u001b[1m un\u001b[0m ⋯\n",
              "     │\u001b[90m Date       \u001b[0m\u001b[90m Float64?    \u001b[0m\u001b[90m Float64?     \u001b[0m\u001b[90m Float64? \u001b[0m\u001b[90m Float64? \u001b[0m\u001b[90m Float64? \u001b[0m\u001b[90m Fl\u001b[0m ⋯\n",
              "─────┼──────────────────────────────────────────────────────────────────────────\n",
              "   1 │ 1984-01-01 \u001b[90m missing     \u001b[0m\u001b[90m  missing     \u001b[0m  462.595   462.986   397.046     ⋯\n",
              "   2 │ 1984-02-01 \u001b[90m missing     \u001b[0m\u001b[90m  missing     \u001b[0m  463.084   463.279   397.497\n",
              "   3 │ 1984-03-01      386.764       385.817   463.376   463.667   397.973\n",
              "   4 │ 1984-04-01 \u001b[90m missing     \u001b[0m\u001b[90m  missing     \u001b[0m  463.764   464.15    398.571\n",
              "   5 │ 1984-05-01 \u001b[90m missing     \u001b[0m\u001b[90m  missing     \u001b[0m  463.957   464.535   399.103     ⋯\n",
              "   6 │ 1984-06-01      387.729       386.982   464.15    464.919   399.466\n",
              "   7 │ 2019-07-01 \u001b[90m missing     \u001b[0m\u001b[90m  missing     \u001b[0m  554.44    557.322   462.503\n",
              "   8 │ 2019-08-01 \u001b[90m missing     \u001b[0m\u001b[90m  missing     \u001b[0m  554.532   557.548   463.26\n",
              "   9 │ 2019-09-01      464.126       464.23    554.686   557.742   462.947     ⋯\n",
              "  10 │ 2019-10-01 \u001b[90m missing     \u001b[0m\u001b[90m  missing     \u001b[0m  554.968   557.962   462.092\n",
              "  11 │ 2019-11-01 \u001b[90m missing     \u001b[0m\u001b[90m  missing     \u001b[0m  555.249   558.18    462.644\n",
              "  12 │ 2019-12-01      464.518       464.581   555.54    558.357   462.441\n",
              "\u001b[36m                                                               7 columns omitted\u001b[0m"
            ]
          },
          "metadata": {},
          "output_type": "display_data"
        }
      ],
      "source": [
        "# Construct a Pseudo-Mixed frequency Dataset (Act like we can only observe quarterly PCE)\n",
        "Pseudo_DF = sort(outerjoin(DF_F[:,names(DF_F,Not([:pce,:pcecore]))],DF_Q[:,[:date,:pce_mean,:pcecore_mean]], on = :date),:date);\n",
        "select!(Pseudo_DF, [:date, :pce_mean, :pcecore_mean],:);\n",
        "Pseudo_DF[[1:6;end-5:end],:]"
      ]
    },
    {
      "cell_type": "code",
      "execution_count": null,
      "metadata": {},
      "outputs": [],
      "source": [
        "# Index for quarterly and monthly variables\n",
        "quarterly_names = names(Pseudo_DF,Not(:date))[[any(ismissing, Pseudo_DF[!, col]) for col in names(Pseudo_DF,Not(:date))]];\n",
        "monthly_names = names(Pseudo_DF,Not(:date))[[~any(ismissing, Pseudo_DF[!, col]) for col in names(Pseudo_DF,Not(:date))]];\n",
        "isquarterly = [any(ismissing, Pseudo_DF[!, i]) for i in names(Pseudo_DF, Not(:date))];"
      ]
    },
    {
      "cell_type": "code",
      "execution_count": null,
      "metadata": {},
      "outputs": [],
      "source": [
        "#Pkg.add(\"Interpolations\")\n",
        "using Interpolations"
      ]
    },
    {
      "cell_type": "code",
      "execution_count": null,
      "metadata": {},
      "outputs": [],
      "source": [
        "# 각 월의 일 수 차이로 변환 후 내삽\n",
        "Y = Matrix(DF_Q[:,2:end]);\n",
        "x_monthly = Dates.value.(Pseudo_DF.date .- Pseudo_DF.date[1]);\n",
        "x_quarterly = Dates.value.(DF_Q.date .- DF_Q.date[1]);\n",
        "results = map(i -> extrapolate(interpolate((x_quarterly,), Y[:, i], Gridded(Linear())), Line()).(x_monthly), findall(isquarterly));\n",
        "results = hcat(results...);\n",
        "#Pseudo_DF[!,[:pce_interpolated, :pcecore_interpolated]] = results;\n",
        "Pseudo_DF.pce_interpolated = results[:,1];\n",
        "Pseudo_DF.pcecore_interpolated = results[:,1];\n"
      ]
    },
    {
      "cell_type": "code",
      "execution_count": null,
      "metadata": {},
      "outputs": [],
      "source": [
        "Nq = sum(isquarterly); # Number of quarterly variables\n",
        "Nm = sum(.~isquarterly); # Number of monthly variables"
      ]
    },
    {
      "cell_type": "code",
      "execution_count": null,
      "metadata": {},
      "outputs": [],
      "source": [
        "# Matrices for collecting draws from Posterior Density\n",
        "nsim = 1000;\n",
        "T,k = size(Z_init_DF)\n",
        "T0 = Int(2*p); \n",
        "Tnobs = T - T0;\n",
        "Sigmap    = zeros(nsim,k,k);\n",
        "Phip      = zeros(nsim,k*p+1,k);\n",
        "Cons      = zeros(nsim,k);\n",
        "lstate    = zeros(nsim,Nq,Tnobs);\n",
        "YYactsim  = zeros(nsim,4,k);\n",
        "XXactsim  = zeros(nsim,4,k*p+1);\n",
        "likesim   = zeros(nsim,1);\n",
        "zmddsim   = zeros(nsim,1);    \n",
        "priorsim  = zeros(nsim,2);\n",
        "parasim   = zeros(nsim,Int((k*p+1)*k + k*(k+1)/2));\n",
        "At_mat    = zeros(Tnobs,Nq*(p+1));\n",
        "Pt_mat    = zeros(Tnobs,(Nq*(p+1))^2);\n",
        "Atildemat = zeros(nsim,Nq*(p+1));\n",
        "Ptildemat = zeros(nsim,Nq*(p+1),Nq*(p+1));\n",
        "loglh   = 0;\n",
        "counter = 0;"
      ]
    },
    {
      "cell_type": "code",
      "execution_count": null,
      "metadata": {},
      "outputs": [],
      "source": [
        "Z_init_DF = select(Pseudo_DF[1:end-1,names(Pseudo_DF,Not([:pce_mean,:pcecore_mean]))], [:date],:);\n",
        "# Quarterly data는 제일 뒤에 오너라\n",
        "#YDATA = Matrix(Z_init_DF[:,2:end]);\n",
        "YQ = Matrix{Float64}(Z_init_DF[T0+1:end,[:pce_interpolated,:pcecore_interpolated]]);\n",
        "YM = Matrix{Float64}(Z_init_DF[T0+1:end,monthly_names]);\n",
        "Z_init_DF[[1:6;end-4:end],:]"
      ]
    },
    {
      "cell_type": "code",
      "execution_count": null,
      "metadata": {},
      "outputs": [],
      "source": [
        "YDATA = hcat(YM,YQ)\n",
        "B_post_init, sig_post_init = gibbs_bvar(YDATA, p, B0,V0,S0, hyperparameters, 5000, 1000);"
      ]
    },
    {
      "cell_type": "code",
      "execution_count": null,
      "metadata": {},
      "outputs": [],
      "source": [
        "    Phi = copy(Matrix(B0'));\n",
        "    sigma = copy(S0);\n",
        "    Phi = reshape(median(B_post_init,dims=1),k,k*p+1)';\n",
        "    sigma = reshape(median(sig_post_init,dims=1),k,k);\n",
        "    phi_qm = zeros(Nm * p, Nq);\n",
        "    for i in 1:p\n",
        "        phi_qm[(Nm*(i-1)+1):(Nm*i), :] = Phi[(i-1)*(Nm+Nq)+1:(i-1)*(Nm+Nq)+Nm, Nm+1:end];\n",
        "    end\n",
        "\n",
        "    phi_qq = zeros(Nq * p, Nq);\n",
        "    for i in 1:p\n",
        "        phi_qq[(Nq*(i-1)+1):(Nq*i), :] = Phi[(i-1)*(Nm+Nq)+Nm+1:i*(Nm+Nq), Nm+1:end];\n",
        "    end\n",
        "\n",
        "    phi_qc = Phi[end, Nm+1:end];\n",
        "\n",
        "    phi_mm = zeros(Nm * p, Nm);\n",
        "    for i in 1:p\n",
        "        phi_mm[(Nm*(i-1)+1):(Nm*i), :] = Phi[(i-1)*(Nm+Nq)+1:(i-1)*(Nm+Nq)+Nm, 1:Nm];\n",
        "    end\n",
        "\n",
        "    phi_mq = zeros(Nq * p, Nm);\n",
        "    for i in 1:p\n",
        "        phi_mq[(Nq*(i-1)+1):(Nq*i), :] = Phi[(i-1)*(Nm+Nq)+Nm+1:i*(Nm+Nq), 1:Nm];\n",
        "    end\n",
        "\n",
        "    phi_mc = Phi[end, 1:Nm];\n",
        "\n",
        "    sig_mm = sigma[1:Nm, 1:Nm];\n",
        "    sig_mq = 0.5 * (sigma[1:Nm, Nm+1:end] + sigma[Nm+1:end, 1:Nm]')\n",
        "    sig_qm = 0.5 * (sigma[Nm+1:end, 1:Nm] + sigma[1:Nm, Nm+1:end]');\n",
        "    sig_qq = sigma[Nm+1:end, Nm+1:end];\n",
        "\n",
        "    # Transition Equation Matrices\n",
        "    GAMMAs = vcat(hcat(phi_qq', zeros(Nq, Nq)), hcat(Matrix(I, p*Nq, p*Nq), zeros(p*Nq, Nq)));\n",
        "    GAMMAz = vcat(phi_qm', zeros(p*Nq, p*Nm));\n",
        "    GAMMAc = vcat(phi_qc, zeros(p*Nq,1));\n",
        "    GAMMAu = vcat(Matrix(I, Nq, Nq), zeros(p*Nq, Nq));\n",
        "\n",
        "    # Measurement Equation Matrices\n",
        "    LAMBDAs = vcat(hcat(zeros(Nm, Nq), phi_mq'), (1/3) * hcat(Matrix(I, Nq, Nq), Matrix(I, Nq, Nq), Matrix(I, Nq, Nq), zeros(Nq, Nq*(p-2))));\n",
        "    LAMBDAz = vcat(phi_mm', zeros(Nq, p*Nm));\n",
        "    LAMBDAc = vcat(phi_mc, zeros(Nq));\n",
        "    LAMBDAu = vcat(Matrix(I, Nm, Nm), zeros(Nq, Nm));\n",
        "\n",
        "    # W matrix and transformed LAMBDA terms\n",
        "    Wmatrix = hcat(Matrix(I, Nm, Nm), zeros(Nm, Nq));\n",
        "    LAMBDAs_t = Wmatrix * LAMBDAs;\n",
        "    LAMBDAz_t = Wmatrix * LAMBDAz;\n",
        "    LAMBDAc_t = Wmatrix * LAMBDAc;\n",
        "    LAMBDAu_t = Wmatrix * LAMBDAu;"
      ]
    },
    {
      "cell_type": "code",
      "execution_count": null,
      "metadata": {},
      "outputs": [],
      "source": [
        "init_var = zeros(Nq * (p + 1), Nq * (p + 1));\n",
        "for _ in 1:(p + 1)\n",
        "    init_var = GAMMAs * init_var * GAMMAs' + GAMMAu * sig_qq * GAMMAu';\n",
        "end\n",
        "# YM = Matrix(Z_init_DF[:, names(Z_init_DF,Not([:date, :pce_interpolated, :pcecore_interpolated]))]);\n",
        "# YQ = Matrix(Z_init_DF[:, [:pce_interpolated, :pcecore_interpolated]]);\n",
        "Zm_init = zeros(T0 - p - 1, Nm * p);\n",
        "for i in 1:p\n",
        "    Zm_init[:, (i - 1) * Nm + 1 : i * Nm] = YM[(p + 1 - (i - 1)) : (T0 - i), :];\n",
        "end\n",
        "init_mean = vec(YQ[1:p+1,:]');"
      ]
    },
    {
      "cell_type": "code",
      "execution_count": null,
      "metadata": {},
      "outputs": [],
      "source": [
        "function vm_initialize(GAMMAs, GAMMAz, GAMMAc, GAMMAu, LAMBDAs, LAMBDAz, LAMBDAc, LAMBDAu, LAMBDAs_t, LAMBDAz_t, LAMBDAc_t, LAMBDAu_t,\n",
        "    sig_qq, sig_mm, sig_qm, sig_mq, Zm, YDATA, init_mean, init_var, p::Int,T0::Int, nv::Int, Nm::Int)\n",
        "    # Unpack specification\n",
        "    nex_ =1;\n",
        "\n",
        "    # Initialization\n",
        "    At = init_mean\n",
        "    Pt = init_var\n",
        "\n",
        "    for t in (p + 2):T0\n",
        "        At1 = At\n",
        "        Pt1 = Pt\n",
        "\n",
        "        alphahat = GAMMAs * At1 + GAMMAz * Zm[t - p - 1, :] + GAMMAc ;\n",
        "        Phat = Matrix(Symmetric(GAMMAs * Pt1 * GAMMAs' + GAMMAu * sig_qq * GAMMAu')) ;\n",
        "\n",
        "        if iszero(mod(t, 3))\n",
        "            # Quarterly observation\n",
        "            yhat = LAMBDAs * alphahat + LAMBDAz * Zm[t - p - 1, :] + LAMBDAc\n",
        "            nut = YDATA[t, :] - yhat\n",
        "\n",
        "            Ft = LAMBDAs * Phat * LAMBDAs' + LAMBDAu * sig_mm * LAMBDAu' +\n",
        "                 LAMBDAs * GAMMAu * sig_qm * LAMBDAu' +\n",
        "                 LAMBDAu * sig_mq * GAMMAu' * LAMBDAs'\n",
        "            Ft = Matrix(Symmetric(Ft));\n",
        "\n",
        "            Xit = LAMBDAs * Phat + LAMBDAu * sig_mq * GAMMAu'\n",
        "        else\n",
        "            # Monthly observation\n",
        "            yhat = LAMBDAs_t * alphahat + LAMBDAz_t * Zm[t - p - 1, :] + LAMBDAc_t\n",
        "            nut = YDATA[t, 1:Nm] - yhat\n",
        "\n",
        "            Ft = LAMBDAs_t * Phat * LAMBDAs_t' + LAMBDAu_t * sig_mm * LAMBDAu_t' +\n",
        "                 LAMBDAs_t * GAMMAu * sig_qm * LAMBDAu_t' +\n",
        "                 LAMBDAu_t * sig_mq * GAMMAu' * LAMBDAs_t'\n",
        "            Ft = 0.5 * (Ft + Ft')\n",
        "\n",
        "            Xit = LAMBDAs_t * Phat + LAMBDAu_t * sig_mq * GAMMAu'\n",
        "        end\n",
        "\n",
        "        At = alphahat + Xit' * inv(Ft) * nut\n",
        "        Pt = Phat - Xit' * inv(Ft) * Xit\n",
        "    end\n",
        "\n",
        "    return At, Pt\n",
        "end"
      ]
    },
    {
      "cell_type": "code",
      "execution_count": null,
      "metadata": {},
      "outputs": [],
      "source": [
        "init_At, init_Pt = vm_initialize(GAMMAs, GAMMAz, GAMMAc, GAMMAu, LAMBDAs, LAMBDAz, LAMBDAc, LAMBDAu, LAMBDAs_t, LAMBDAz_t, LAMBDAc_t, LAMBDAu_t,\n",
        "    sig_qq, sig_mm, sig_qm, sig_mq, Zm_init  , YDATA, init_mean, init_var, p::Int,T0::Int, k::Int, Nm::Int);"
      ]
    },
    {
      "cell_type": "markdown",
      "metadata": {},
      "source": [
        "Kalman Filter"
      ]
    },
    {
      "cell_type": "code",
      "execution_count": null,
      "metadata": {},
      "outputs": [],
      "source": [
        "# Lagged Monthly Observations\n",
        "T,k = size(Z_init_DF[:,2:end]);\n",
        "nobs = T-T0;\n",
        "Zm   = zeros(nobs,Nm*p);"
      ]
    },
    {
      "cell_type": "code",
      "execution_count": null,
      "metadata": {},
      "outputs": [],
      "source": [
        "nv=k;\n",
        "nsim=1000;\n",
        "kn = nv * (p + 1)\n",
        "counter = 0\n",
        "AT_draws = []\n",
        "Atildemat = zeros(nsim, kn)\n",
        "Ptildemat = zeros(nsim, kn, kn)\n",
        "Tnew = 2;\n"
      ]
    },
    {
      "cell_type": "markdown",
      "metadata": {},
      "source": [
        "For unbalanced dataset"
      ]
    },
    {
      "cell_type": "code",
      "execution_count": null,
      "metadata": {},
      "outputs": [],
      "source": [
        "T0+nobs"
      ]
    },
    {
      "cell_type": "code",
      "execution_count": null,
      "metadata": {},
      "outputs": [],
      "source": [
        "\n",
        "At = init_At\n",
        "Pt = init_Pt\n",
        "loglh = 0.0\n",
        "\n",
        "At_mat = zeros(nobs, length(init_At))\n",
        "Pt_mat = zeros(nobs, length(init_At)^2)\n",
        "\n",
        "for t in 1:nobs    \n",
        "    if iszero(mod(t + T0, 3))\n",
        "        At1 = At\n",
        "        Pt1 = Pt;\n",
        "        #Forecasting\n",
        "        alphahat = GAMMAs * At1 + GAMMAz * Zm[t, :] + GAMMAc\n",
        "        Phat = Matrix(Symmetric( GAMMAs * Pt1 * GAMMAs' + GAMMAu * sig_qq * GAMMAu'));\n",
        "        yhat = LAMBDAs * alphahat + LAMBDAz * Zm[t, :] + LAMBDAc\n",
        "        nut = vcat(YM[t, :], YQ[t, :]) - yhat\n",
        "        Ft = Matrix(Symmetric(LAMBDAs * Phat * LAMBDAs' + LAMBDAu * sig_mm * LAMBDAu' +\n",
        "                    LAMBDAs * GAMMAu * sig_qm * LAMBDAu' + LAMBDAu * sig_mq * GAMMAu' * LAMBDAs'));\n",
        "        loglh -= 0.5 * length(nut) * log(2π) + 0.5 * logdet(Ft) + 0.5 *only( nut' * inv(Ft) * nut)\n",
        "        Xit = LAMBDAs * Phat + LAMBDAu * sig_mq * GAMMAu'\n",
        "    else\n",
        "        alphahat = GAMMAs * At1 + GAMMAz * Zm[t,:] + GAMMAc;\n",
        "       Phat     = Matrix(Symmetric(GAMMAs * Pt1 * GAMMAs' + GAMMAu * sig_qq * GAMMAu'));\n",
        "        yhat = LAMBDAs_t * alphahat + LAMBDAz_t * Zm[t, :] + LAMBDAc_t\n",
        "        nut = YM[t, :] - yhat\n",
        "        Ft = Matrix(Symmetric(LAMBDAs_t * Phat * LAMBDAs_t' + LAMBDAu_t * sig_mm * LAMBDAu_t' +\n",
        "                     LAMBDAs_t * GAMMAu * sig_qm * LAMBDAu_t' + LAMBDAu_t * sig_mq * GAMMAu' * LAMBDAs_t'));\n",
        "        loglh -= (0.5 * length(nut) * log(2π) + 0.5 * logdet(Ft) + 0.5 * only(nut' * inv(Ft) * nut))\n",
        "        Xit = LAMBDAs_t * Phat + LAMBDAu_t * sig_mq * GAMMAu'\n",
        "    end\n",
        "    \n",
        "    At = alphahat + Xit' * inv(Ft) * nut\n",
        "    Pt = Phat - Xit' * inv(Ft) * Xit\n",
        "    \n",
        "    At_mat[t, :] = At'\n",
        "    Pt_mat[t, :] = reshape(Pt, 1, :)\n",
        "end\n",
        "\n",
        "#=\n",
        "Atildemat[j,:] = At_mat[nobs,:];\n",
        "Pt_last  = reshape(Pt_mat[nobs,:],Nq*(p+1),Nq*(p+1));\n",
        "Ptildemat[j,:,:] = Pt_last;\n",
        "=#\n",
        "\n",
        "# Measurement equation Z-matrix\n",
        "j=1; # Simulation 마다 업데이트됨\n",
        "Z1 = hcat(Matrix(I, Nm, Nm), zeros(Nm, kn - Nm))\n",
        "Z2 = zeros(Nq, kn)\n",
        "for bb in 1:Nq\n",
        "    for ll in 1:3\n",
        "        Z2[bb, ll * Nm + (ll - 1) * Nq + bb] = 1/3;\n",
        "    end\n",
        "end\n",
        "ZZ = vcat(Z1, Z2)\n",
        "\n",
        "# Build initial state BAt from posterior\n",
        "BAt = Matrix{Float64}(undef, 0, 1)\n",
        "for rr in 1:(p + 1)\n",
        "    state_part = Atildemat[j, (rr - 1) * Nq + 1:rr * Nq]\n",
        "    BAt = vcat(BAt, vcat(YM[end - rr + 1, :], state_part))\n",
        "end\n",
        "\n",
        "# Build initial covariance BPt\n",
        "BPt = zeros(kn, kn)\n",
        "for rr in 1:(p + 1)\n",
        "    for vv in 1:(p + 1)\n",
        "        r1 = rr * Nm + (rr - 1) * Nq + 1\n",
        "        r2 = rr * (Nm + Nq)\n",
        "        v1 = vv * Nm + (vv - 1) * Nq + 1\n",
        "        v2 = vv * (Nm + Nq)\n",
        "        BPt[r1:r2, v1:v2] .= Ptildemat[j, (rr - 1) * Nq + 1:rr * Nq, (vv - 1) * Nq + 1:vv * Nq]\n",
        "    end\n",
        "end\n",
        "\n",
        "BAt_mat=zeros(T,kn);\n",
        "BPt_mat=zeros(T,kn^2);\n",
        "\n",
        "BAt_mat[nobs,:] = BAt;\n",
        "BPt_mat[nobs,:] = reshape(BPt,1,kn^2);\n",
        "\n",
        "# Define Companion Form\n",
        "PHIF = zeros(kn, kn)\n",
        "IF = Matrix(I, nv, nv)\n",
        "for i in 1:p\n",
        "    PHIF[i * nv + 1:(i + 1) * nv, (i - 1) * nv + 1:i * nv] = IF\n",
        "end\n",
        "PHIF[1:nv, 1:nv * p] = Phi[1:end-1, :]'\n",
        "\n",
        "# Constant and Covariance term\n",
        "CONF = vcat(Phi[end, :], zeros(nv * p))\n",
        "SIGF = zeros(kn, kn)\n",
        "SIGF[1:nv, 1:nv] = sigma\n",
        "\n",
        "loglh = 0.0\n",
        "# Filter Loop\n",
        "for t in nobs + 1:Tnobs\n",
        "    kkk = t - nobs\n",
        "    ND = delif(YDATA[nobs + T0 + kkk, :]', index_NY[:, kkk])\n",
        "    NZ = delif(ZZ, index_NY[:, kkk])\n",
        "\n",
        "    BAt1 = BAt\n",
        "    BPt1 = BPt\n",
        "\n",
        "    # Forecast step\n",
        "    Balphahat = PHIF * BAt1 + CONF\n",
        "    BPhat = PHIF * BPt1 * PHIF' + SIGF\n",
        "    BPhat = 0.5 * (BPhat + BPhat')\n",
        "\n",
        "    Byhat = NZ * Balphahat\n",
        "    Bnut = ND - Byhat\n",
        "    BFt = NZ * BPhat * NZ'\n",
        "    BFt = 0.5 * (BFt + BFt')\n",
        "\n",
        "    loglh -= 0.5 * length(ND) * log(2π) + 0.5 * logdet(BFt) + 0.5 * Bnut' * inv(BFt) * Bnut\n",
        "\n",
        "    # Update step\n",
        "    BAt = Balphahat + BPhat * NZ' * inv(BFt) * Bnut\n",
        "    BPt = BPhat - BPhat * NZ' * inv(BFt) * (BPhat * NZ')'\n",
        "\n",
        "    BAt_mat[t, :] .= BAt[:]\n",
        "    BPt_mat[t, :] .= reshape(BPt, 1, kn^2)\n",
        "end\n",
        "\n",
        "AT_draw = zeros(Tnew+1,kn);\n",
        "u,s,v = svd(reshape(BPt_mat[Tnobs,:],kn,kn));\n",
        "Pchol = u*Diagonal(s.^0.5)\n",
        "AT_draw[end,:] = BAt_mat[Tnobs,:]+ (Pchol*randn(kn,1));\n",
        "\n",
        " # === Backward Kalman Smoother === #\n",
        " for i in 1:Tnew\n",
        "    BAtt = BAt_mat[Tnobs - i, :]'\n",
        "    BPtt = reshape(BPt_mat[Tnobs - i, :], kn, kn)\n",
        "\n",
        "    BPhat = PHIF * BPtt * PHIF' + SIGF\n",
        "    BPhat = 0.5 * (BPhat + BPhat')\n",
        "\n",
        "    up, sp, vp = svd(BPhat)\n",
        "    inv_sp = Diagonal(sp.^-1);\n",
        "    inv_sp[inv_sp.>1e+12] .=0;\n",
        "    \n",
        "    inv_BPhat = (up * inv_sp * vp')'\n",
        "\n",
        "    Bnut =vec( AT_draw[end - i + 1, :]')  - PHIF * BAtt' - CONF\n",
        "    Amean = vec(BAtt) + BPtt * PHIF' * inv_BPhat * Bnut\n",
        "    Pmean = BPtt - BPtt * PHIF' * inv_BPhat * (BPtt * PHIF')'\n",
        "\n",
        "    um, sm, vm = svd(Pmean)\n",
        "    Pmchol = um * sqrt.(Diagonal(sm))\n",
        "    AT_draw[end - i, :] = (Amean + Pmchol * randn(kn))'\n",
        "end\n",
        "\n",
        "# Balanced dataset\n",
        "At_draw = zeros(nobs,Nq*(p+1));\n",
        "\n",
        "for kk=1:p+1\n",
        "    At_draw[nobs,(kk-1)*Nq+1:kk*Nq] = AT_draw[1,kk*Nm+(kk-1)*Nq+1:kk*(Nm+Nq)];\n",
        "end\n",
        "\n",
        "for i = 1:nobs-1\n",
        "    Att  = At_mat[nobs-i,:];\n",
        "    Ptt  = reshape(Pt_mat[nobs-i,:],Nq*(p+1),Nq*(p+1));\n",
        "\n",
        "    Phat = Matrix(Symmetric(GAMMAs * Ptt * GAMMAs' + GAMMAu * sig_qq * GAMMAu'));\n",
        "    \n",
        "    up, sp, vp = svd(Phat);\n",
        "    inv_sp = Diagonal(sp.^-1);\n",
        "    inv_sp[inv_sp.>1e+12] .=0;\n",
        "        \n",
        "    inv_Phat = (up*inv_sp*vp')';\n",
        "    \n",
        "    nut  = At_draw[nobs-i+1,:] - GAMMAs * Att - GAMMAz * Zm[nobs-i,:]- GAMMAc;\n",
        "      \n",
        "    Amean = Att + (Ptt*GAMMAs')*inv_Phat*nut;\n",
        "    Pmean = Ptt - (Ptt*GAMMAs')*inv_Phat*(Ptt*GAMMAs')';   \n",
        "  \n",
        "    # singular value decomposition\n",
        "    um, sm, vm = svd(Pmean);\n",
        "    Pmchol = um*Diagonal(sm.^0.5);\n",
        "    At_draw[nobs-i,:] = (Amean + Pmchol*randn(Nq*(p+1),1))';  \n",
        "end\n"
      ]
    },
    {
      "cell_type": "markdown",
      "metadata": {},
      "source": [
        "BVAR Part"
      ]
    },
    {
      "cell_type": "code",
      "execution_count": null,
      "metadata": {},
      "outputs": [],
      "source": [
        "YY = Matrix{Float64}([[YM At_draw[:,1:Nq]];AT_draw[2:end,1:(Nm+Nq)]])"
      ]
    },
    {
      "cell_type": "code",
      "execution_count": null,
      "metadata": {},
      "outputs": [],
      "source": []
    },
    {
      "cell_type": "code",
      "execution_count": null,
      "metadata": {},
      "outputs": [],
      "source": [
        "nobs_   = size(YY,1)-T0;\n",
        "spec    = [p T0 1 nv nobs_];"
      ]
    },
    {
      "cell_type": "code",
      "execution_count": null,
      "metadata": {},
      "outputs": [],
      "source": [
        "function gibbs_bvar_mf(Y::Matrix, p::Int, B0,V0,S0, hyperparameters::MN_hyper, n_draws::Int = 2000, burnin::Int = 1000)\n",
        "    T, k = size(Y)\n",
        "    T0 = 2*p; # pre-sample size\n",
        "    Tnobs = T - T0;\n",
        "    Y_dummy, X_dummy = make_dummy_observations(hyperparameters::MN_hyper,  Y::Matrix{Float64}, p::Int, T0::Int)\n",
        "    X, Y_target = make_lag_matrix(Y, p)\n",
        "    # premom = vcat(mean(Y[1:p,:],dims=1),std(Y[1:p,:],dims=1));\n",
        "    # # Y_dummy, X_dummy = make_dummy_observations(k,p,hyperparameters,premom,1)\n",
        "    # make_dummy_observations(hyperparameters,  Y, p)\n",
        "    Td = size(Y_dummy, 1);\n",
        "    X_f = vcat(X_dummy,X[T0+1-p:end,:]);\n",
        "    Y_f = vcat(Y_dummy, Y_target[T0+1-p:end,:]);\n",
        "\n",
        "    V0_inv = inv(V0)\n",
        "    #B_samples = zeros(burnin+n_draws, k, k*p+1)  # n_draws × k × (k*p+1)\n",
        "    #Σ_samples = zeros(burnin+n_draws, k, k)  # n_draws × k × k\n",
        "    B_samples = Array{Float64}(undef, n_draws-burnin, k, k*p+1)  # 3D array\n",
        "    Σ_samples = Array{Float64}(undef, n_draws-burnin, k, k)  # 3D array\n",
        "\n",
        "    # 초기값\n",
        "    B_draw = reshape(vec(X_f\\Y_f) , k*p+1,k)'\n",
        "    B_draw_init = transpose(X_f\\Y_f);\n",
        "    XtX_inv = cholesky(X_f'*X_f) \\ I;  # safer than inv()\n",
        "    U_X = cholesky(Symmetric(XtX_inv)).U     \n",
        "for s in 1:n_draws\n",
        "    # Posterior of Σ | B\n",
        "    E = Y_f - X_f * B_draw';\n",
        "    Σ_post = Wishart(T+Td-k-1-(T0-p),E'E); # Posterior of Σ | Y;\n",
        "    Σ_draw = inv(rand(Σ_post));\n",
        "    # posterior of B | Σ \n",
        "    # B_V =  Matrix(Symmetric(kron(Σ_draw,XtX_inv)));\n",
        "    # B_draw = reshape(vec(X_f\\Y_f) + cholesky(B_V).U *randn(prod(size(B0))), k,k*p+1);        \n",
        "    B_draw = B_draw_init + cholesky(Matrix(Symmetric(Σ_draw))).L *randn((size(B0))) *U_X; # A Secret Sauce for Super-fast computation, by ChatGPT\n",
        "    # Save results\n",
        "#    B_samples[s,:,:] = reshape(B_draw',1,k,k*p+1);\n",
        "    #Σ_samples[s,:,:] = reshape(Σ_draw,1,k,k);\n",
        "    if s>burnin\n",
        "    @views B_samples[s-burnin, :, :] .= B_draw;\n",
        "    @views Σ_samples[s-burnin, :, :] .= Σ_draw;\n",
        "    end\n",
        " if mod(s,5000) == 0\n",
        "        println(\"Iteration: \", s)\n",
        "    end\n",
        "  \n",
        "end\n",
        "    return B_samples, Σ_samples;\n",
        "end"
      ]
    }
  ],
  "metadata": {
    "colab": {
      "authorship_tag": "ABX9TyPTkl3rYRf7TH3m+tRZpr+R",
      "include_colab_link": true,
      "provenance": []
    },
    "kernelspec": {
      "display_name": "Julia 1.10.4",
      "language": "julia",
      "name": "julia-1.10"
    },
    "language_info": {
      "file_extension": ".jl",
      "mimetype": "application/julia",
      "name": "julia",
      "version": "1.10.4"
    }
  },
  "nbformat": 4,
  "nbformat_minor": 0
}
